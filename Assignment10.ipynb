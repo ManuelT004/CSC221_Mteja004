{
  "nbformat": 4,
  "nbformat_minor": 0,
  "metadata": {
    "colab": {
      "provenance": [],
      "authorship_tag": "ABX9TyPL5WPBm4gROkYkZUTLAwCF",
      "include_colab_link": true
    },
    "kernelspec": {
      "name": "python3",
      "display_name": "Python 3"
    },
    "language_info": {
      "name": "python"
    }
  },
  "cells": [
    {
      "cell_type": "markdown",
      "metadata": {
        "id": "view-in-github",
        "colab_type": "text"
      },
      "source": [
        "<a href=\"https://colab.research.google.com/github/ManuelT004/CSC221_Mteja004/blob/main/Assignment10.ipynb\" target=\"_parent\"><img src=\"https://colab.research.google.com/assets/colab-badge.svg\" alt=\"Open In Colab\"/></a>"
      ]
    },
    {
      "cell_type": "code",
      "execution_count": null,
      "metadata": {
        "id": "NzSi_EC4zjlQ"
      },
      "outputs": [],
      "source": [
        "def make_shirt(size, text):\n",
        "  print(f'the size of the shirt will be {size}, and the text on it will be {text}')\n",
        "\n",
        "print(make_shirt('Large', 'This is my shirt' ))\n",
        "\n",
        "print(make_shirt(size = 'Small', text = 'i am stupid :('))\n"
      ]
    },
    {
      "cell_type": "code",
      "source": [
        "import math\n",
        "\n",
        "def make_shirt(size, text):\n",
        "    print(f\"The size of the shirt will be {size}, and the text on it will be '{text}'\")\n",
        "\n",
        "def calculate_circle_area(radius):\n",
        "    return math.pi * radius ** 2\n",
        "\n",
        "def calculate_rectangle_area(length, width):\n",
        "    return length * width\n",
        "\n",
        "# Test code for functions if functions.py is run directly\n",
        "if __name__ == \"__main__\":\n",
        "    # Test make_shirt function\n",
        "    make_shirt('Large', 'This is my shirt')\n",
        "    make_shirt(size='Small', text='I am stupid :(')"
      ],
      "metadata": {
        "colab": {
          "base_uri": "https://localhost:8080/"
        },
        "id": "Kn7FNLKM05TF",
        "outputId": "108ec32d-554d-4b10-f7b6-e47796b8caf5"
      },
      "execution_count": 2,
      "outputs": [
        {
          "output_type": "stream",
          "name": "stdout",
          "text": [
            "The size of the shirt will be Large, and the text on it will be 'This is my shirt'\n",
            "The size of the shirt will be Small, and the text on it will be 'I am stupid :('\n"
          ]
        }
      ]
    },
    {
      "cell_type": "code",
      "source": [
        "cars = []\n",
        "def make_car(brand, model, color, age):\n",
        "  car = {'brand': brand, 'model': model, 'color': color, 'age': age}\n",
        "  cars.append(car)\n",
        "  return car"
      ],
      "metadata": {
        "id": "IUwbCfHa3qal"
      },
      "execution_count": 3,
      "outputs": []
    },
    {
      "cell_type": "code",
      "source": [
        "cars = []\n",
        "\n",
        "def make_car(brand, model, color, age):\n",
        "    car = {'brand': brand, 'model': model, 'color': color, 'age': age}\n",
        "    cars.append(car)\n",
        "    return car\n",
        "\n",
        "if __name__ == \"__main__\":\n",
        "\n",
        "    car1 = make_car('Toyota', 'Corolla', 'Blue', 5)\n",
        "    car2 = make_car('Ford', 'Mustang', 'Red', 2)\n",
        "\n",
        "    print(\"Cars List:\", cars)"
      ],
      "metadata": {
        "colab": {
          "base_uri": "https://localhost:8080/"
        },
        "id": "oRyr6Yd71tyD",
        "outputId": "c38598b9-69bc-43de-f31a-5aff11222356"
      },
      "execution_count": 4,
      "outputs": [
        {
          "output_type": "stream",
          "name": "stdout",
          "text": [
            "Cars List: [{'brand': 'Toyota', 'model': 'Corolla', 'color': 'Blue', 'age': 5}, {'brand': 'Ford', 'model': 'Mustang', 'color': 'Red', 'age': 2}]\n"
          ]
        }
      ]
    }
  ]
}