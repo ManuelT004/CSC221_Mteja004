{
  "nbformat": 4,
  "nbformat_minor": 0,
  "metadata": {
    "colab": {
      "provenance": [],
      "authorship_tag": "ABX9TyMCRzWtVBINiszpTYi5sR+V",
      "include_colab_link": true
    },
    "kernelspec": {
      "name": "python3",
      "display_name": "Python 3"
    },
    "language_info": {
      "name": "python"
    }
  },
  "cells": [
    {
      "cell_type": "markdown",
      "metadata": {
        "id": "view-in-github",
        "colab_type": "text"
      },
      "source": [
        "<a href=\"https://colab.research.google.com/github/ManuelT004/CSC221_Mteja004/blob/main/Assignment8.ipynb\" target=\"_parent\"><img src=\"https://colab.research.google.com/assets/colab-badge.svg\" alt=\"Open In Colab\"/></a>"
      ]
    },
    {
      "cell_type": "code",
      "execution_count": 1,
      "metadata": {
        "colab": {
          "base_uri": "https://localhost:8080/"
        },
        "id": "ZD5MWGs8Goxj",
        "outputId": "8e4686b9-d50e-4ad3-8e86-d1b60d11788a"
      },
      "outputs": [
        {
          "output_type": "stream",
          "name": "stdout",
          "text": [
            "what kind of car would you like to rent?subartu\n",
            "oh i see, lemme see if we have a subartu, in our lots rn\n"
          ]
        }
      ],
      "source": [
        "#7-1\n",
        "\n",
        "car = input('what kind of car would you like to rent?')\n",
        "\n",
        "print(f'oh i see, lemme see if we have a {car}, in our lots rn')"
      ]
    },
    {
      "cell_type": "code",
      "source": [
        "#7-3\n",
        "\n",
        "num = input('gimme a number and I will tell yu if its a multipleof ten or not')\n",
        "num = int(num)\n",
        "\n",
        "if num % 10 == 0:\n",
        "  print('yup this is definitely a multiple of ten')\n",
        "\n",
        "else:\n",
        "  print('nope this is definitely not a multiple of 10')"
      ],
      "metadata": {
        "colab": {
          "base_uri": "https://localhost:8080/"
        },
        "id": "qansocB9K81p",
        "outputId": "63c05a5b-1f97-4809-bf63-248e24ca690c"
      },
      "execution_count": 3,
      "outputs": [
        {
          "output_type": "stream",
          "name": "stdout",
          "text": [
            "gimme a number and I will tell yu if its a multipleof ten or not65\n",
            "nope this is definitely not a multiple of 10\n"
          ]
        }
      ]
    },
    {
      "cell_type": "code",
      "source": [
        "#7-5\n",
        "\n",
        "print('good evening and welcome to our movie theatre'\n",
        "+ '\\nthere are diffrent prices based on the age of the viewer'\n",
        "+ '\\nthe prices are '\n",
        "+ '\\nunder 3 is free'\n",
        "+ '\\nbetween 3 and 12 is $10'\n",
        "+ '\\nand over 12 is $15')\n",
        "\n",
        "people = input('how many people are in the party?')\n",
        "people = int(people)\n",
        "count = 0\n",
        "\n",
        "while count != people:\n",
        "\n",
        "  age = input('so whats your age?')\n",
        "  age = int(age)\n",
        "\n",
        "\n",
        "  if age < 3:\n",
        "    print('rlly? bit odd for you to be paying but ig go right in')\n",
        "\n",
        "  elif age >= 3 and age < 12:\n",
        "    print('gotchu lil man pass me a tenner and you can head right in')\n",
        "\n",
        "  else:\n",
        "    print('Thank you sir, plz hand me $15 and you can head right in')\n",
        "\n",
        "  count += 1"
      ],
      "metadata": {
        "id": "MauNDMbHLnXT"
      },
      "execution_count": null,
      "outputs": []
    },
    {
      "cell_type": "code",
      "source": [
        "#7-6 break code\n",
        "\n",
        "print('good evening and welcome to our movie theatre'\n",
        "+ '\\nthere are diffrent prices based on the age of the viewer'\n",
        "+ '\\nthe prices are '\n",
        "+ '\\nunder 3 is free'\n",
        "+ '\\nbetween 3 and 12 is $10'\n",
        "+ '\\nand over 12 is $15')\n",
        "\n",
        "#people = input('how many people are in the party?')\n",
        "#people = int(people)\n",
        "#count = 0\n",
        "\n",
        "while age != 'quit':\n",
        "\n",
        "  age = input('so whats your age?'\n",
        "  + \"\\ninput '999' to exit after you've done everyone\")\n",
        "  age = int(age)\n",
        "\n",
        "\n",
        "  if age < 3:\n",
        "    print('rlly? bit odd for you to be paying but ig go right in')\n",
        "\n",
        "  elif age >= 3 and age < 12:\n",
        "    print('gotchu lil man pass me a tenner and you can head right in')\n",
        "\n",
        "  elif age == 999:\n",
        "    break\n",
        "\n",
        "  else:\n",
        "    print('Thank you sir, plz hand me $15 and you can head right in')\n",
        "\n",
        "  count += 1\n",
        "\n",
        "print('hope you enjoy the flick')"
      ],
      "metadata": {
        "colab": {
          "base_uri": "https://localhost:8080/"
        },
        "id": "2Zaas7ZEPDLJ",
        "outputId": "dd6b4bb5-dfe3-4d85-c57e-ec4362636a0e"
      },
      "execution_count": 25,
      "outputs": [
        {
          "name": "stdout",
          "output_type": "stream",
          "text": [
            "good evening and welcome to our movie theatre\n",
            "there are diffrent prices based on the age of the viewer\n",
            "the prices are \n",
            "under 3 is free\n",
            "between 3 and 12 is $10\n",
            "and over 12 is $15\n",
            "so whats your age?\n",
            "input '999' to exit after you've done everyone9\n",
            "gotchu lil man pass me a tenner and you can head right in\n",
            "so whats your age?\n",
            "input '999' to exit after you've done everyone99\n",
            "Thank you sir, plz hand me $15 and you can head right in\n",
            "so whats your age?\n",
            "input '999' to exit after you've done everyone999\n"
          ]
        }
      ]
    },
    {
      "cell_type": "code",
      "source": [
        "#7-6 flag\n",
        "\n",
        "active = True\n",
        "print('good evening and welcome to our movie theatre'\n",
        "+ '\\nthere are diffrent prices based on the age of the viewer'\n",
        "+ '\\nthe prices are '\n",
        "+ '\\nunder 3 is free'\n",
        "+ '\\nbetween 3 and 12 is $10'\n",
        "+ '\\nand over 12 is $15')\n",
        "\n",
        "#people = input('how many people are in the party?')\n",
        "#people = int(people)\n",
        "#count = 0\n",
        "\n",
        "while active == True:\n",
        "  age = input('so whats your age?')\n",
        "  #+ \"\\ninput '999' to exit after you've done everyone\")\n",
        "  age = int(age)\n",
        "\n",
        "\n",
        "  if age < 3:\n",
        "    print('rlly? bit odd for you to be paying but ig go right in')\n",
        "\n",
        "  elif age >= 3 and age < 12:\n",
        "    print('gotchu lil man pass me a tenner and you can head right in')\n",
        "\n",
        "  #elif age == 999:\n",
        "   # break\n",
        "\n",
        "  else:\n",
        "    print('Thank you sir, plz hand me $15 and you can head right in')\n",
        "\n",
        "  loop = input('is that everyone? y/n')\n",
        "  if loop == 'y':\n",
        "    active = False\n",
        "  else:\n",
        "    pass\n",
        "print('hope you enjoy the flick')"
      ],
      "metadata": {
        "colab": {
          "base_uri": "https://localhost:8080/"
        },
        "id": "vZ8BaA5_VBsE",
        "outputId": "bfd14745-0c0b-4c55-da34-7313f26d85af"
      },
      "execution_count": 27,
      "outputs": [
        {
          "output_type": "stream",
          "name": "stdout",
          "text": [
            "good evening and welcome to our movie theatre\n",
            "there are diffrent prices based on the age of the viewer\n",
            "the prices are \n",
            "under 3 is free\n",
            "between 3 and 12 is $10\n",
            "and over 12 is $15\n",
            "so whats your age?9\n",
            "gotchu lil man pass me a tenner and you can head right in\n",
            "is that everyone? y/nn\n",
            "so whats your age?10\n",
            "gotchu lil man pass me a tenner and you can head right in\n",
            "is that everyone? y/nn\n",
            "so whats your age?86\n",
            "Thank you sir, plz hand me $15 and you can head right in\n",
            "is that everyone? y/ny\n",
            "hope you enjoy the flick\n"
          ]
        }
      ]
    },
    {
      "cell_type": "code",
      "source": [
        "#7-8\n",
        "\n",
        "sandwich_orders = ['tuna', 'roast beef', 'veggie', 'tuna', 'steak', 'legendary']\n",
        "finished_order = []\n",
        "count = 1\n",
        "while sandwich_orders:\n",
        "  current_order = sandwich_orders.pop\n",
        "  print(f'made {current_order()}')\n",
        "  finished_order.append(current_order())\n",
        "\n",
        "for order in finished_order:\n",
        "  print(f'\\nalright i made {finished_order} sandwiches')"
      ],
      "metadata": {
        "colab": {
          "base_uri": "https://localhost:8080/"
        },
        "id": "onl3izXzbGGX",
        "outputId": "5fdb6aae-9385-4f9d-fa6d-a0ade8718963"
      },
      "execution_count": 50,
      "outputs": [
        {
          "output_type": "stream",
          "name": "stdout",
          "text": [
            "made legendary\n",
            "made tuna\n",
            "made roast beef\n",
            "\n",
            "alright i made ['steak', 'veggie', 'tuna'] sandwiches\n",
            "\n",
            "alright i made ['steak', 'veggie', 'tuna'] sandwiches\n",
            "\n",
            "alright i made ['steak', 'veggie', 'tuna'] sandwiches\n"
          ]
        }
      ]
    },
    {
      "cell_type": "code",
      "source": [
        "#Calculator\n",
        "def add(x,y):\n",
        "  return x + y\n",
        "\n",
        "def minus(x,y):\n",
        "  return x - y\n",
        "\n",
        "def multiply(x,y):\n",
        "  return x * y\n",
        "\n",
        "def divide(x,y):\n",
        "  return x / y\n",
        "\n",
        "num1 = input('what number are we starting with')\n",
        "num1 = int(num1)\n",
        "\n",
        "operation = input('what operation are we doing(+, -, *, %)')\n",
        "\n",
        "num2 = input('against what number')\n",
        "num2 = int(num2)\n",
        "\n",
        "def math(num1, operation, num2):\n",
        "  print(f'{num1}{operation}{num2}')\n",
        "\n",
        "if operation == '+':\n",
        "  asnwer = add(num1, num2)\n",
        "\n",
        "elif operation == '-':\n",
        "  asnwer = minus(num1, num2)\n",
        "\n",
        "elif operation == '*':\n",
        "  asnwer = multiply(num1, num2)\n",
        "\n",
        "elif operation == '/':\n",
        "  asnwer = divide(num1, num2)\n",
        "\n",
        "print(f'the answer is {asnwer}')"
      ],
      "metadata": {
        "colab": {
          "base_uri": "https://localhost:8080/"
        },
        "id": "KN6HjgBigTVg",
        "outputId": "87fff970-8503-4653-b098-8c8bbac8ecb0"
      },
      "execution_count": 61,
      "outputs": [
        {
          "output_type": "stream",
          "name": "stdout",
          "text": [
            "what number are we starting with5\n",
            "what operation are we doing(+, -, *, %)+\n",
            "against what number5\n",
            "the answer is 10\n"
          ]
        }
      ]
    }
  ]
}