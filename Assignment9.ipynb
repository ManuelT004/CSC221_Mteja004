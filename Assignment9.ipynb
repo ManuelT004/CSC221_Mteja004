{
  "nbformat": 4,
  "nbformat_minor": 0,
  "metadata": {
    "colab": {
      "provenance": [],
      "authorship_tag": "ABX9TyOVHoyACItlgShqjVQujfqg",
      "include_colab_link": true
    },
    "kernelspec": {
      "name": "python3",
      "display_name": "Python 3"
    },
    "language_info": {
      "name": "python"
    }
  },
  "cells": [
    {
      "cell_type": "markdown",
      "metadata": {
        "id": "view-in-github",
        "colab_type": "text"
      },
      "source": [
        "<a href=\"https://colab.research.google.com/github/ManuelT004/CSC221_Mteja004/blob/main/Assignment9.ipynb\" target=\"_parent\"><img src=\"https://colab.research.google.com/assets/colab-badge.svg\" alt=\"Open In Colab\"/></a>"
      ]
    },
    {
      "cell_type": "code",
      "execution_count": 1,
      "metadata": {
        "colab": {
          "base_uri": "https://localhost:8080/"
        },
        "id": "opjKI7jvptav",
        "outputId": "fec89c4c-9156-4b8f-da82-242fd16d69b1"
      },
      "outputs": [
        {
          "output_type": "stream",
          "name": "stdout",
          "text": [
            "my favorite book is bud not buddy\n",
            "None\n"
          ]
        }
      ],
      "source": [
        "#tiy 8-2\n",
        "\n",
        "def favorite_book(title):\n",
        "  print(f'my favorite book is {title}')\n",
        "\n",
        "print(favorite_book(\"bud not buddy\"))"
      ]
    },
    {
      "cell_type": "code",
      "source": [
        "#tiy 8-3\n",
        "\n",
        "def make_shirt(size, text):\n",
        "  print(f'the size of the shirt will be {size}, and the text on it will be {text}')\n",
        "\n",
        "print(make_shirt('Large', 'This is my shirt' ))\n",
        "\n",
        "print(make_shirt(size = 'Small', text = 'i am stupid :('))"
      ],
      "metadata": {
        "colab": {
          "base_uri": "https://localhost:8080/"
        },
        "id": "5KG61oUJrs8r",
        "outputId": "fe3dfa7a-b412-4dfa-8c76-a31e513560d3"
      },
      "execution_count": 2,
      "outputs": [
        {
          "output_type": "stream",
          "name": "stdout",
          "text": [
            "the size of the shirt will be Large, and the text on it will be This is my shirt\n",
            "None\n",
            "the size of the shirt will be Small, and the text on it will be i am stupid :(\n",
            "None\n"
          ]
        }
      ]
    },
    {
      "cell_type": "code",
      "source": [
        "#tiy 8-4\n",
        "\n",
        "def make_shirt(size = \"Large\", text = 'I love python'):\n",
        "\n",
        "  print(f'the size of the shirt will be {size}, and the text on it will be {text}')\n",
        "\n",
        "print(make_shirt(size, text))\n",
        "\n",
        "print(make_shirt('medium', text))\n",
        "\n",
        "print(make_shirt('small', 'My Chem'))"
      ],
      "metadata": {
        "colab": {
          "base_uri": "https://localhost:8080/"
        },
        "id": "wb6Z7URMuBTT",
        "outputId": "053780f5-89e0-4823-b1cf-8b9c67d59c97"
      },
      "execution_count": 10,
      "outputs": [
        {
          "output_type": "stream",
          "name": "stdout",
          "text": [
            "the size of the shirt will be Large, and the text on it will be I love Python\n",
            "None\n",
            "the size of the shirt will be medium, and the text on it will be I love Python\n",
            "None\n",
            "the size of the shirt will be small, and the text on it will be My Chem\n",
            "None\n"
          ]
        }
      ]
    },
    {
      "cell_type": "code",
      "source": [
        "#tiy 8-14\n",
        "cars = []\n",
        "def make_car(brand, model, color, age):\n",
        "  car = {'brand': brand, 'model': model, 'color': color, 'age': age}\n",
        "  cars.append(car)\n",
        "  return car\n",
        "\n",
        "\n",
        "print(make_car('chevy', 'camero', 'Z', '2019'))"
      ],
      "metadata": {
        "colab": {
          "base_uri": "https://localhost:8080/"
        },
        "id": "ZhfjUb2JwEEX",
        "outputId": "4bf17b43-3fab-47ff-9960-339730991c6b"
      },
      "execution_count": 16,
      "outputs": [
        {
          "output_type": "stream",
          "name": "stdout",
          "text": [
            "{'brand': 'chevy', 'model': 'Truck', 'color': 'Raptor', 'age': '1989'}\n"
          ]
        }
      ]
    },
    {
      "cell_type": "code",
      "source": [
        "#teacher question 2\n",
        "\n",
        "def add(x,y):\n",
        "  return x + y\n",
        "\n",
        "def arrange(x,y):\n",
        "  nums = [x,y]\n",
        "  ordered_nums = sorted(nums)\n",
        "\n",
        "  return ordered_nums\n",
        "\n",
        "def func1(x, y = 3.141592):\n",
        "  fin_add = add(x,y)\n",
        "\n",
        "  fin_arrange = arrange(x,y)\n",
        "\n",
        "  return fin_add, fin_arrange\n",
        "\n",
        "print(func1(26))\n",
        "\n",
        "print(func1(26, 13))"
      ],
      "metadata": {
        "colab": {
          "base_uri": "https://localhost:8080/"
        },
        "id": "dObOcJ6xzlN2",
        "outputId": "3ea50b74-691a-41c6-f9a9-d6a75397ac4a"
      },
      "execution_count": 32,
      "outputs": [
        {
          "output_type": "stream",
          "name": "stdout",
          "text": [
            "29.141592\n",
            "[3.141592, 26]\n",
            "(29.141592, [3.141592, 26])\n",
            "39\n",
            "[13, 26]\n",
            "(39, [13, 26])\n"
          ]
        }
      ]
    },
    {
      "cell_type": "code",
      "source": [
        "#teacher question 4\n",
        "Verbose = True\n",
        "\n",
        "def add(x,y):\n",
        "  return x + y\n",
        "\n",
        "def arrange(x,y):\n",
        "  nums = [x,y]\n",
        "  ordered_nums = sorted(nums)\n",
        "\n",
        "  return ordered_nums\n",
        "\n",
        "def func1(x, y = 3.141592):\n",
        "  if Verbose == True:\n",
        "    print('add: x+y' )\n",
        "    fin_add = add(x,y)\n",
        "\n",
        "\n",
        "    print('arrange: sorted(variable)')\n",
        "    fin_arrange = arrange(x,y)\n",
        "\n",
        "  else:\n",
        "    fin_add = add(x,y)\n",
        "\n",
        "    fin_arrange = arrange(x,y)\n",
        "\n",
        "  return fin_add, fin_arrange\n",
        "\n",
        "print(func1(26))\n",
        "\n",
        "print(func1(26, 13))\n"
      ],
      "metadata": {
        "colab": {
          "base_uri": "https://localhost:8080/"
        },
        "id": "ogw5YkBx4kPF",
        "outputId": "415ff7fe-405f-423b-8561-bc60f6ebb384"
      },
      "execution_count": 37,
      "outputs": [
        {
          "output_type": "stream",
          "name": "stdout",
          "text": [
            "add: x+y\n",
            "arrange: sorted(variable)\n",
            "(29.141592, [3.141592, 26])\n",
            "add: x+y\n",
            "arrange: sorted(variable)\n",
            "(39, [13, 26])\n"
          ]
        }
      ]
    }
  ]
}