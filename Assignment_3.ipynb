{
  "nbformat": 4,
  "nbformat_minor": 0,
  "metadata": {
    "colab": {
      "provenance": [],
      "authorship_tag": "ABX9TyNDg4Jb4ODODzTodLNpzrwj",
      "include_colab_link": true
    },
    "kernelspec": {
      "name": "python3",
      "display_name": "Python 3"
    },
    "language_info": {
      "name": "python"
    }
  },
  "cells": [
    {
      "cell_type": "markdown",
      "metadata": {
        "id": "view-in-github",
        "colab_type": "text"
      },
      "source": [
        "<a href=\"https://colab.research.google.com/github/ManuelT004/CSC221_Mteja004/blob/main/Assignment_3.ipynb\" target=\"_parent\"><img src=\"https://colab.research.google.com/assets/colab-badge.svg\" alt=\"Open In Colab\"/></a>"
      ]
    },
    {
      "cell_type": "code",
      "execution_count": null,
      "metadata": {
        "colab": {
          "base_uri": "https://localhost:8080/"
        },
        "id": "NO0KJRJhXzkw",
        "outputId": "479fc3ea-8aff-4b74-fae5-ddffb6db1f5f"
      },
      "outputs": [
        {
          "output_type": "stream",
          "name": "stdout",
          "text": [
            "hello python world\n",
            "hello python Crash Course World!\n"
          ]
        }
      ],
      "source": [
        "message = \"hello python world\"\n",
        "print(message)\n",
        "\n",
        "message = \"hello python Crash Course World!\"\n",
        "print(message)"
      ]
    },
    {
      "cell_type": "code",
      "source": [
        "#try it yourself 2-1\n",
        "message = 'i cannot belive im doing this rn'\n",
        "print(message)"
      ],
      "metadata": {
        "colab": {
          "base_uri": "https://localhost:8080/"
        },
        "id": "JkpiDK2XZMJ5",
        "outputId": "9cf8c040-a34d-4098-b0f5-6c2702e7644b"
      },
      "execution_count": null,
      "outputs": [
        {
          "output_type": "stream",
          "name": "stdout",
          "text": [
            "i cannot belive im doing this rn\n"
          ]
        }
      ]
    },
    {
      "cell_type": "code",
      "source": [
        "#try it yourself 2-2\n",
        "message = 'its always the simple stuff that becomes unreasonably difficult'\n",
        "print(message)\n",
        "message = 'somehow this will come stab mew in the back and become unbearable'\n",
        "print(message)"
      ],
      "metadata": {
        "colab": {
          "base_uri": "https://localhost:8080/"
        },
        "id": "i5GB72DyZoJ6",
        "outputId": "0ae219a9-0424-45c3-c5d4-557e206a2728"
      },
      "execution_count": null,
      "outputs": [
        {
          "output_type": "stream",
          "name": "stdout",
          "text": [
            "its always the simple stuff that becomes unreasonably difficult\n",
            "somehow this will come stab mew in the back and become unbearable\n"
          ]
        }
      ]
    },
    {
      "cell_type": "code",
      "source": [
        "name = 'Ada lovelace'\n",
        "print(name.title())\n",
        "\n",
        "print(name.upper())\n",
        "print(name.lower())"
      ],
      "metadata": {
        "colab": {
          "base_uri": "https://localhost:8080/"
        },
        "id": "mK4tExqAal8j",
        "outputId": "50cda8e9-cc20-4a3e-dbd6-8912ed0a4df2"
      },
      "execution_count": null,
      "outputs": [
        {
          "output_type": "stream",
          "name": "stdout",
          "text": [
            "Ada Lovelace\n",
            "ADA LOVELACE\n",
            "ada lovelace\n"
          ]
        }
      ]
    },
    {
      "cell_type": "code",
      "source": [
        "first_name = 'ada'\n",
        "last_name = 'lovelace'\n",
        "full_name = (f'{first_name} {last_name}')\n",
        "message = f'hello, {full_name.title()}'\n",
        "print(message)"
      ],
      "metadata": {
        "colab": {
          "base_uri": "https://localhost:8080/"
        },
        "id": "FJlKzEjkbRjy",
        "outputId": "0bbf8d0a-f6c5-435c-e057-c6f29da4a5c3"
      },
      "execution_count": null,
      "outputs": [
        {
          "output_type": "stream",
          "name": "stdout",
          "text": [
            "hello, Ada Lovelace\n"
          ]
        }
      ]
    },
    {
      "cell_type": "code",
      "source": [
        "#try it yourself 2-3\n",
        "name = 'mori'\n",
        "print(f'hello, {name.title()}')"
      ],
      "metadata": {
        "colab": {
          "base_uri": "https://localhost:8080/"
        },
        "id": "VlALHDxYfM0K",
        "outputId": "195493c6-c09e-43fc-f59e-d2afe533926f"
      },
      "execution_count": null,
      "outputs": [
        {
          "output_type": "stream",
          "name": "stdout",
          "text": [
            "hello, Mori\n"
          ]
        }
      ]
    },
    {
      "cell_type": "code",
      "source": [
        "#try it yourself 2-4\n",
        "name = 'mori'\n",
        "print(f'{name.upper()}')\n",
        "print(f'{name.lower()}')\n",
        "print(f'{name.title()}')"
      ],
      "metadata": {
        "colab": {
          "base_uri": "https://localhost:8080/"
        },
        "id": "Blf3Rvuugx4a",
        "outputId": "2668f597-9509-43d1-db91-225b48c1ca5b"
      },
      "execution_count": null,
      "outputs": [
        {
          "output_type": "stream",
          "name": "stdout",
          "text": [
            "MORI\n",
            "mori\n",
            "Mori\n"
          ]
        }
      ]
    },
    {
      "cell_type": "code",
      "source": [
        "#tiy 2-5\n",
        "person = 'dr. suess'\n",
        "quote = \"don't cry because it's over, smile because it happened\"\n",
        "print(f'{person.title()} once said, {quote.lower()}')"
      ],
      "metadata": {
        "colab": {
          "base_uri": "https://localhost:8080/"
        },
        "id": "Z6dqdiKoiADt",
        "outputId": "68e3f661-ffee-45b3-d6ff-17f5aab8473c"
      },
      "execution_count": null,
      "outputs": [
        {
          "output_type": "stream",
          "name": "stdout",
          "text": [
            "Dr. Suess once said, don't cry because it's over, smile because it happened\n"
          ]
        }
      ]
    },
    {
      "cell_type": "code",
      "source": [
        "#tiy 2-6\n",
        "#this code is me practicing formatted strings and using suffixes to edit my strings\n",
        "famous_person = 'dr. suess'\n",
        "message = f'{famous_person.title()} once said, dont cry because its over, smile because it happened'\n",
        "print(message)"
      ],
      "metadata": {
        "colab": {
          "base_uri": "https://localhost:8080/"
        },
        "id": "Y8soVidwi8r7",
        "outputId": "b788d286-ea51-4fb5-84bd-d0bfc83c9c5d"
      },
      "execution_count": null,
      "outputs": [
        {
          "output_type": "stream",
          "name": "stdout",
          "text": [
            "Dr. Suess once said, dont cry because its over, smile because it happened\n"
          ]
        }
      ]
    },
    {
      "cell_type": "code",
      "source": [
        "# tiy 2-7\n",
        "# this code is me practicing the strip technique to become more efficient\n",
        "message = ' death '\n",
        "print(message.rstrip())\n",
        "print(message.lstrip())\n",
        "print(message.strip())"
      ],
      "metadata": {
        "colab": {
          "base_uri": "https://localhost:8080/"
        },
        "id": "WwwNSWtGju4o",
        "outputId": "c9d7309d-7818-43fe-aaa0-ee0ed76e26db"
      },
      "execution_count": null,
      "outputs": [
        {
          "output_type": "stream",
          "name": "stdout",
          "text": [
            " death\n",
            "death \n",
            "death\n"
          ]
        }
      ]
    },
    {
      "cell_type": "code",
      "source": [
        "#tiy 2-8\n",
        "file_name = 'python_notes.txt'\n",
        "print(file_name.removesuffix('.txt'))"
      ],
      "metadata": {
        "colab": {
          "base_uri": "https://localhost:8080/"
        },
        "id": "aAG1YO4bk-de",
        "outputId": "76ba98b0-c286-4b98-fe1c-0567950d482b"
      },
      "execution_count": 2,
      "outputs": [
        {
          "output_type": "stream",
          "name": "stdout",
          "text": [
            "python_notes\n"
          ]
        }
      ]
    },
    {
      "cell_type": "code",
      "source": [
        "#tiy 2-9\n",
        "print(4+4)\n",
        "print(10-2)\n",
        "print(4*2)\n",
        "print(16/2)"
      ],
      "metadata": {
        "colab": {
          "base_uri": "https://localhost:8080/"
        },
        "id": "Az_8BkkpqKlT",
        "outputId": "ef75fcee-d1e7-4418-af4f-e2cb47bbd326"
      },
      "execution_count": 4,
      "outputs": [
        {
          "output_type": "stream",
          "name": "stdout",
          "text": [
            "8\n",
            "8\n",
            "8\n",
            "8.0\n"
          ]
        }
      ]
    },
    {
      "cell_type": "code",
      "source": [
        "#tiy 2-10\n",
        "fav_num = '13'\n",
        "print(f'My favorite number is {fav_num}')"
      ],
      "metadata": {
        "colab": {
          "base_uri": "https://localhost:8080/"
        },
        "id": "JGElAPfnq_i0",
        "outputId": "4b41dde1-3d37-4f49-e0f7-5bfcc68abfe0"
      },
      "execution_count": 5,
      "outputs": [
        {
          "output_type": "stream",
          "name": "stdout",
          "text": [
            "My favorite number is 13\n"
          ]
        }
      ]
    },
    {
      "cell_type": "code",
      "source": [
        "#say hello to ppl\n",
        "print('hello everyone, its wonderful to meet you all')"
      ],
      "metadata": {
        "colab": {
          "base_uri": "https://localhost:8080/"
        },
        "id": "xgVTqMZlrSHI",
        "outputId": "82e3f07a-fb95-4354-951b-fc65c2cc6d17"
      },
      "execution_count": 6,
      "outputs": [
        {
          "output_type": "stream",
          "name": "stdout",
          "text": [
            "hello everyone, its wonderful to meet you all\n"
          ]
        }
      ]
    },
    {
      "cell_type": "code",
      "source": [
        "#2-11\n",
        "# i will be adding comments to tiy 2-6 and 2-7"
      ],
      "metadata": {
        "id": "WUcwanEfry81"
      },
      "execution_count": null,
      "outputs": []
    },
    {
      "cell_type": "code",
      "source": [
        "#tiy 2-12\n",
        "import this\n"
      ],
      "metadata": {
        "colab": {
          "base_uri": "https://localhost:8080/"
        },
        "id": "TV7yLJT1sb1B",
        "outputId": "525fd7ea-538b-44c0-df7b-bab45f1769b1"
      },
      "execution_count": 7,
      "outputs": [
        {
          "output_type": "stream",
          "name": "stdout",
          "text": [
            "The Zen of Python, by Tim Peters\n",
            "\n",
            "Beautiful is better than ugly.\n",
            "Explicit is better than implicit.\n",
            "Simple is better than complex.\n",
            "Complex is better than complicated.\n",
            "Flat is better than nested.\n",
            "Sparse is better than dense.\n",
            "Readability counts.\n",
            "Special cases aren't special enough to break the rules.\n",
            "Although practicality beats purity.\n",
            "Errors should never pass silently.\n",
            "Unless explicitly silenced.\n",
            "In the face of ambiguity, refuse the temptation to guess.\n",
            "There should be one-- and preferably only one --obvious way to do it.\n",
            "Although that way may not be obvious at first unless you're Dutch.\n",
            "Now is better than never.\n",
            "Although never is often better than *right* now.\n",
            "If the implementation is hard to explain, it's a bad idea.\n",
            "If the implementation is easy to explain, it may be a good idea.\n",
            "Namespaces are one honking great idea -- let's do more of those!\n"
          ]
        }
      ]
    },
    {
      "cell_type": "code",
      "source": [],
      "metadata": {
        "id": "CFkAG0hss5Qh"
      },
      "execution_count": null,
      "outputs": []
    },
    {
      "cell_type": "code",
      "source": [],
      "metadata": {
        "id": "i-gmdwSTst72"
      },
      "execution_count": null,
      "outputs": []
    }
  ]
}