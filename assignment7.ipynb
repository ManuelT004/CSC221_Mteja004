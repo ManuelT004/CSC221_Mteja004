{
  "nbformat": 4,
  "nbformat_minor": 0,
  "metadata": {
    "colab": {
      "provenance": [],
      "authorship_tag": "ABX9TyOsOmq0niEK87BPGUmf0lXJ",
      "include_colab_link": true
    },
    "kernelspec": {
      "name": "python3",
      "display_name": "Python 3"
    },
    "language_info": {
      "name": "python"
    }
  },
  "cells": [
    {
      "cell_type": "markdown",
      "metadata": {
        "id": "view-in-github",
        "colab_type": "text"
      },
      "source": [
        "<a href=\"https://colab.research.google.com/github/ManuelT004/CSC221_Mteja004/blob/main/assignment7.ipynb\" target=\"_parent\"><img src=\"https://colab.research.google.com/assets/colab-badge.svg\" alt=\"Open In Colab\"/></a>"
      ]
    },
    {
      "cell_type": "code",
      "execution_count": null,
      "metadata": {
        "colab": {
          "base_uri": "https://localhost:8080/"
        },
        "id": "xETZBpuRFTCq",
        "outputId": "7b6e45b7-4e34-4c10-a347-ea98136d8ec4"
      },
      "outputs": [
        {
          "output_type": "stream",
          "name": "stdout",
          "text": [
            "green\n",
            "5\n",
            "you just earned 5 points\n",
            "{'color': 'green', 'points': 5, 'x_position': 0, 'y_position': 25}\n"
          ]
        }
      ],
      "source": [
        "alien_0 = {'color': 'green', 'points': 5 }\n",
        "\n",
        "print(alien_0['color'])\n",
        "print(alien_0['points'])\n",
        "\n",
        "new_points = alien_0['points']\n",
        "print(f'you just earned {new_points} points')\n",
        "\n",
        "alien_0['x_position'] = 0\n",
        "alien_0['y_position'] = 25\n",
        "\n",
        "print(alien_0)"
      ]
    },
    {
      "cell_type": "code",
      "source": [
        "#tiy 6-1\n",
        "\n",
        "julio = {'first_name': 'Julio', 'last_name': 'Hernandez', 'Age': 19, 'city': 'New York City'}\n",
        "\n",
        "print(julio['first_name'])\n",
        "print(julio['last_name'])\n",
        "print(julio['Age'])\n",
        "print(julio['city'])"
      ],
      "metadata": {
        "id": "CJJ6WHOEUyAO",
        "colab": {
          "base_uri": "https://localhost:8080/"
        },
        "outputId": "3e9e4610-0291-47ce-f479-f0f9afa44efa"
      },
      "execution_count": null,
      "outputs": [
        {
          "output_type": "stream",
          "name": "stdout",
          "text": [
            "Julio\n",
            "Hernandez\n",
            "19\n",
            "New York City\n"
          ]
        }
      ]
    },
    {
      "cell_type": "code",
      "source": [
        "#tiy 6-2\n",
        "\n",
        "favorite_num = {'julio': 7, 'kay': 10, 'maiah': 13, 'arvin': 21}\n",
        "print(f'julios favorite number is ' + f\"{favorite_num['julio']}\")\n",
        "print(f'kay favorite number is ' + f\"{favorite_num['kay']}\")\n",
        "print(f'maiah favorite number is ' + f\"{favorite_num['maiah']}\")\n",
        "print(f'arvin favorite number is ' + f\"{favorite_num['arvin']}\")"
      ],
      "metadata": {
        "colab": {
          "base_uri": "https://localhost:8080/"
        },
        "id": "4PMcMAgcZPv8",
        "outputId": "427044b7-ed1f-4140-f488-26acaf8ca83c"
      },
      "execution_count": null,
      "outputs": [
        {
          "output_type": "stream",
          "name": "stdout",
          "text": [
            "julios favorite number is 7\n",
            "kay favorite number is 10\n",
            "maiah favorite number is 13\n",
            "arvin favorite number is 21\n"
          ]
        }
      ]
    },
    {
      "cell_type": "code",
      "source": [
        "#tiy 6-3\n",
        "\n",
        "glossary = {'print': '\\n the print statement enables the program to print out strings',\n",
        "            'for': '\\n the for keyword enables the program to run through the items on a list',\n",
        "            'if': '\\n the if statement enables the program to attempt to do something and is closely related to the elif and else statement',\n",
        "            'elif': '\\n the elif statemnt allows the program to run an alternative action of the original if statemnt fails or is unable to preform',\n",
        "            'else': '\\n if neithr the if or the elif are uncapable of preforming then the statement will resort to the else statement'\n",
        "            }\n",
        "\n",
        "print(f\"print, {glossary['print']}\")\n",
        "print(f\"for, {glossary['for']}\")\n",
        "print(f\"if, {glossary['if']}\")\n",
        "print(f\"elif, {glossary['elif']}\")\n",
        "print(f\"else, {glossary['else']}\")"
      ],
      "metadata": {
        "colab": {
          "base_uri": "https://localhost:8080/"
        },
        "id": "UZ7YjsEobIrI",
        "outputId": "2d716d05-afc2-4b52-847c-3aac80ca645b"
      },
      "execution_count": null,
      "outputs": [
        {
          "output_type": "stream",
          "name": "stdout",
          "text": [
            "print, \n",
            " the print statement enables the program to print out strings\n",
            "for, \n",
            " the for keyword enables the program to run through the items on a list\n",
            "if, \n",
            " the if statement enables the program to attempt to do something and is closely related to the elif and else statement\n",
            "elif, \n",
            " the elif statemnt allows the program to run an alternative action of the original if statemnt fails or is unable to preform\n",
            "else, \n",
            " if neithr the if or the elif are uncapable of preforming then the statement will resort to the else statement\n"
          ]
        }
      ]
    },
    {
      "cell_type": "code",
      "source": [
        "#just me practicing making the loop work\n",
        "for key, value in glossary.items():\n",
        "  print(f'{key}')\n",
        "  print(f'{value}')"
      ],
      "metadata": {
        "colab": {
          "base_uri": "https://localhost:8080/"
        },
        "id": "e_Z-99eod4EI",
        "outputId": "422c5162-b238-4895-8542-d44725cfa2a5"
      },
      "execution_count": null,
      "outputs": [
        {
          "output_type": "stream",
          "name": "stdout",
          "text": [
            "print\n",
            "\n",
            " the print statement enables the program to print out strings\n",
            "for\n",
            "\n",
            " the for keyword enables the program to run through the items on a list\n",
            "if\n",
            "\n",
            " the if statement enables the program to attempt to do something and is closely related to the elif and else statement\n",
            "elif\n",
            "\n",
            " the elif statemnt allows the program to run an alternative action of the original if statemnt fails or is unable to preform\n",
            "else\n",
            "\n",
            " if neithr the if or the elif are uncapable of preforming then the statement will resort to the else statement\n"
          ]
        }
      ]
    },
    {
      "cell_type": "code",
      "source": [
        "#tiy 6-4\n",
        "glossary = {'print': '\\n the print statement enables the program to print out strings',\n",
        "            'for': '\\n the for keyword enables the program to run through the items on a list',\n",
        "            'if': '\\n the if statement enables the program to attempt to do something and is closely related to the elif and else statement',\n",
        "            'elif': '\\n the elif statemnt allows the program to run an alternative action of the original if statemnt fails or is unable to preform',\n",
        "            'else': '\\n if neither the if or the elif are uncapable of preforming then the statement will resort to the else statement',\n",
        "            'def': '\\n the def keyword, allows the programmer to create functions',\n",
        "            'try': '\\n this enables the program to attempt to do somewith expecting a possible failure',\n",
        "            'except': '\\n this key word will handle and deal with errors without stopping the code',\n",
        "            'class': '\\n the class keyword allows program to have a blueprint of a object',\n",
        "            'or': '\\n the or key words allows the computer to understand only one opf the conditions must be met to return a true',\n",
        "            'and': '\\n the and key word allows the program to know both of the conditions must be met to return a true'\n",
        "            }\n",
        "\n",
        "\n",
        "for k, v in glossary.items():\n",
        "  print(f'{k}, and its purpose is {v}')"
      ],
      "metadata": {
        "colab": {
          "base_uri": "https://localhost:8080/"
        },
        "id": "W0xRoYQ5gaM-",
        "outputId": "d4c2e0a3-4ec2-4a71-c4df-7e1bf98572f4"
      },
      "execution_count": null,
      "outputs": [
        {
          "output_type": "stream",
          "name": "stdout",
          "text": [
            "print, and its purpose is \n",
            " the print statement enables the program to print out strings\n",
            "for, and its purpose is \n",
            " the for keyword enables the program to run through the items on a list\n",
            "if, and its purpose is \n",
            " the if statement enables the program to attempt to do something and is closely related to the elif and else statement\n",
            "elif, and its purpose is \n",
            " the elif statemnt allows the program to run an alternative action of the original if statemnt fails or is unable to preform\n",
            "else, and its purpose is \n",
            " if neither the if or the elif are uncapable of preforming then the statement will resort to the else statement\n",
            "def, and its purpose is \n",
            " the def keyword, allows the programmer to create functions\n",
            "try, and its purpose is \n",
            " this enables the program to attempt to do somewith expecting a possible failure\n",
            "except, and its purpose is \n",
            " this key word will handle and deal with errors without stopping the code\n",
            "class, and its purpose is \n",
            " the class keyword allows program to have a blueprint of a object\n",
            "or, and its purpose is \n",
            " the or key words allows the computer to understand only one opf the conditions must be met to return a true\n",
            "and, and its purpose is \n",
            " the and key word allows the program to know both of the conditions must be met to return a true\n"
          ]
        }
      ]
    },
    {
      "cell_type": "code",
      "source": [
        "#tiy 6-11\n",
        "\n",
        "cities = {'new york': {'state': 'New York', 'population': 8468000, 'fun fact': 'hip hop started in the bronx'},\n",
        "          'Chicago': {'state': 'illinois', 'population': 2697000, 'fun fact': 'chicago earned the name cha-city for certain areas being more dangerous to be present in then area of iraq during the iraq war '},\n",
        "          'san francisco': {'state': 'california', 'population': 815201, 'fun fact': 'san fransico was mostly destroyed by an earth quake in the early 1900'}\n",
        "        }\n",
        "\n",
        "print(cities['new york']['fun fact'])"
      ],
      "metadata": {
        "colab": {
          "base_uri": "https://localhost:8080/"
        },
        "id": "XFi81zLykCUy",
        "outputId": "3d1472ae-b2b4-4363-b794-533357eb70b1"
      },
      "execution_count": null,
      "outputs": [
        {
          "output_type": "stream",
          "name": "stdout",
          "text": [
            "hip hop started in the bronx\n"
          ]
        }
      ]
    },
    {
      "cell_type": "code",
      "source": [
        "#human Data Base\n",
        "ppl_ik = {\n",
        "          \"julio\" : {\"hair\" : \"black\", \"height\" : \"6'2\", \"birth\" : \"NYC\"},\n",
        "          \"kay\" : { \"hair\" : \"brown\", \"height\" : \"tall\", \"birth\" : \"Farmville\"},\n",
        "          \"will\" : { \"hair\" : \"brown\", \"height\" : \"6'2\", \"birth\" : \"long_isalnd\"},\n",
        "          \"carlos\" : {\"hair\" : \"black\", \"height\" : \"tall\", \"birth\" : \"NYC\"},\n",
        "          \"jemis\" : {\"hair\" : \"brown\", \"height\" : \"small\", \"birth\" : \"NYC\"},\n",
        "          \"grayson\" : {\"hair\" : \"black\", \"height\" : \"small\", \"birth\" : \"va\"},\n",
        "          \"grimace\" : {\"hair\" : \"black\", \"height\" : \"5'1\", \"birth\" : \"NYC\" },\n",
        "          }\n",
        "\n",
        "\n",
        "\n",
        "\n",
        "\n",
        "\n",
        "wanted = input(\"can you please type in the name of the person u are looking for (all lower case plz)  \")\n",
        "\n",
        "deeper_info = input(\"would u like specific info Y/N \")\n",
        "\n",
        "if str(deeper_info) == (\"y\"):\n",
        "  subject = input(\"what would you like to know i.e. hair, height, birth  \")\n",
        "  print((ppl_ik[str(wanted)][str(subject)]))\n",
        "\n",
        "elif str(deeper_info) == (\"n\"):\n",
        "  print((ppl_ik[str(wanted)]))\n",
        "\n",
        "elif str(deeper_info) == (\"mori\"):\n",
        "  print(\"welcome back\")\n",
        "  manage = input(\"what would you like to do (add, minus, check total, see data) \")\n",
        "\n",
        "  if str(manage) == str(\"add\"):#finish this\n",
        "    name = input(\"Plz provide the name of person you'd like to add to our data base\")\n",
        "\n",
        "\n",
        "  elif str(manage) == str(\"minus\"):#this as well\n",
        "    r_name = input(\"Plz provide the name of the person you wish to delete from the data base\")\n",
        "\n",
        "  elif str(manage) == str(\"check total\"):\n",
        "    print(len(ppl_ik))\n",
        "\n",
        "  elif str(manage) == str(\"see data\"):# change format that that info comes out as\n",
        "    print(ppl_ik)\n",
        ""
      ],
      "metadata": {
        "colab": {
          "base_uri": "https://localhost:8080/"
        },
        "id": "__H0D5N9Uguc",
        "outputId": "ef2f298a-16f6-48e6-f45e-72545edcf732"
      },
      "execution_count": 1,
      "outputs": [
        {
          "output_type": "stream",
          "name": "stdout",
          "text": [
            "can you please type in the name of the person u are looking for (all lower case plz)  julio\n",
            "would u like specific info Y/N n\n",
            "{'hair': 'black', 'height': \"6'2\", 'birth': 'NYC'}\n"
          ]
        }
      ]
    }
  ]
}