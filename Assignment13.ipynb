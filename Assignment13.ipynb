{
  "nbformat": 4,
  "nbformat_minor": 0,
  "metadata": {
    "colab": {
      "provenance": [],
      "authorship_tag": "ABX9TyNFAnzmQ3oJSGj7HLZT8cUS",
      "include_colab_link": true
    },
    "kernelspec": {
      "name": "python3",
      "display_name": "Python 3"
    },
    "language_info": {
      "name": "python"
    }
  },
  "cells": [
    {
      "cell_type": "markdown",
      "metadata": {
        "id": "view-in-github",
        "colab_type": "text"
      },
      "source": [
        "<a href=\"https://colab.research.google.com/github/ManuelT004/CSC221_Mteja004/blob/main/Assignment13.ipynb\" target=\"_parent\"><img src=\"https://colab.research.google.com/assets/colab-badge.svg\" alt=\"Open In Colab\"/></a>"
      ]
    },
    {
      "cell_type": "code",
      "execution_count": null,
      "metadata": {
        "colab": {
          "base_uri": "https://localhost:8080/"
        },
        "id": "i2knHhY6OC-2",
        "outputId": "8ba2e4aa-d27e-4db9-d5ac-50f8d954427c"
      },
      "outputs": [
        {
          "output_type": "stream",
          "name": "stdout",
          "text": [
            "Writing what_i_Learned.txt\n"
          ]
        }
      ],
      "source": [
        "#tiy 10-1\n",
        "%%writefile what_i_Learned.txt\n",
        "\n",
        "this year in programming ive learned a lot\n",
        "\n",
        "ive know the key fundementals of python\n",
        "\n",
        "such as keywords\n",
        "\n",
        "and besides that i know how to manipulate those base key words to create\n",
        "\n",
        "using for, if, and while\n",
        "\n",
        "on top of becoming better at object oriented programming has broken my previous limits as a programming"
      ]
    },
    {
      "cell_type": "code",
      "source": [
        "#tiy 10-2\n",
        "with open('what_i_Learned.txt', 'r') as file:\n",
        "    content = file.read()\n",
        "\n",
        "content_modified = content.replace('python', 'C')\n",
        "\n",
        "print(content_modified)"
      ],
      "metadata": {
        "colab": {
          "base_uri": "https://localhost:8080/"
        },
        "id": "PzSTV4VuQyB7",
        "outputId": "ec2a1b0b-413f-4dea-dd88-d5d682f4bd17"
      },
      "execution_count": null,
      "outputs": [
        {
          "output_type": "stream",
          "name": "stdout",
          "text": [
            "\n",
            "this year in programming ive learned a lot\n",
            "\n",
            "ive know the key fundementals of C\n",
            "\n",
            "such as keywords\n",
            "\n",
            "and besides that i know how to manipulate those base key words to create \n",
            "\n",
            "using for, if, and while\n",
            "\n",
            "on top of becoming better at object oriented programming has broken my previous limits as a programming\n",
            "\n"
          ]
        }
      ]
    },
    {
      "cell_type": "code",
      "source": [
        "#tiy 10-3\n",
        "\n",
        "with open('what_i_Learned.txt', 'r') as file:\n",
        "    lines = file.read().splitlines()\n",
        "\n",
        "for line in lines:\n",
        "    print(line)"
      ],
      "metadata": {
        "colab": {
          "base_uri": "https://localhost:8080/"
        },
        "id": "qUgepjSOScdh",
        "outputId": "e0783eae-0dd4-4302-ec2f-5b8c52ccb688"
      },
      "execution_count": null,
      "outputs": [
        {
          "output_type": "stream",
          "name": "stdout",
          "text": [
            "\n",
            "this year in programming ive learned a lot\n",
            "\n",
            "ive know the key fundementals of python\n",
            "\n",
            "such as keywords\n",
            "\n",
            "and besides that i know how to manipulate those base key words to create \n",
            "\n",
            "using for, if, and while\n",
            "\n",
            "on top of becoming better at object oriented programming has broken my previous limits as a programming\n"
          ]
        }
      ]
    },
    {
      "cell_type": "code",
      "source": [
        "#tiy 10-4\n",
        "\n",
        "user_name = input(\"Please enter your name: \")\n",
        "\n",
        "with open('guest.txt', 'w') as file:\n",
        "    file.write(user_name)\n",
        "\n",
        "with open('guest.txt', 'r') as file:\n",
        "    content = file.read()\n",
        "\n",
        "print(\"Content of guest.txt:\")\n",
        "print(content)"
      ],
      "metadata": {
        "colab": {
          "base_uri": "https://localhost:8080/"
        },
        "id": "z6oMZWDqUTFR",
        "outputId": "1f11b62a-07da-4ce4-9f5f-8aea50e47bb1"
      },
      "execution_count": null,
      "outputs": [
        {
          "output_type": "stream",
          "name": "stdout",
          "text": [
            "Please enter your name: manny\n",
            "Content of guest.txt:\n",
            "manny\n"
          ]
        }
      ]
    },
    {
      "cell_type": "code",
      "source": [
        "#im very sorry i just spent a lot of time trying to get your program to work but i cant get it to do its designed job and it'll take far too long for me to debug your code on my machine so i skipped it"
      ],
      "metadata": {
        "id": "58WLqavFXasd"
      },
      "execution_count": null,
      "outputs": []
    }
  ]
}