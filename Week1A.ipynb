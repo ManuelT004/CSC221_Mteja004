{
  "nbformat": 4,
  "nbformat_minor": 0,
  "metadata": {
    "colab": {
      "provenance": [],
      "authorship_tag": "ABX9TyOic0zAz8ZTwhxzqIqlRTre",
      "include_colab_link": true
    },
    "kernelspec": {
      "name": "python3",
      "display_name": "Python 3"
    },
    "language_info": {
      "name": "python"
    }
  },
  "cells": [
    {
      "cell_type": "markdown",
      "metadata": {
        "id": "view-in-github",
        "colab_type": "text"
      },
      "source": [
        "<a href=\"https://colab.research.google.com/github/ManuelT004/CSC221_Mteja004/blob/main/Week1A.ipynb\" target=\"_parent\"><img src=\"https://colab.research.google.com/assets/colab-badge.svg\" alt=\"Open In Colab\"/></a>"
      ]
    },
    {
      "cell_type": "code",
      "execution_count": 3,
      "metadata": {
        "colab": {
          "base_uri": "https://localhost:8080/"
        },
        "id": "G8IucGqB1fLm",
        "outputId": "7f4d785c-aad2-48f6-a612-a58160cbbb2e"
      },
      "outputs": [
        {
          "output_type": "stream",
          "name": "stdout",
          "text": [
            "hello what is your name Mori\n",
            "Good to meet you Mori\n",
            "For our systems to properly be able to registar your account it will need an age 43\n",
            "Hello to greet you Mori Age: 43\n",
            "haha gramps :) \n"
          ]
        }
      ],
      "source": [
        "name = input(\"hello what is your name \")\n",
        "print(\"Good to meet you \" + name )\n",
        "age = input(\"For our systems to properly be able to registar your account it will need an age \")\n",
        "if int(age) > 20:\n",
        "  print(\"Hello to greet you \" + name + \" Age: \" + age)\n",
        "  print(\"haha gramps :) \")\n",
        "if int(age) < 21:\n",
        "  print(\"Hello to greet you \" + name + \" Age: \" + age)\n",
        "  print(\" so you're prtetty young im assuming you probally do a bunch of cool stuff, dont fail c}87\")"
      ]
    }
  ]
}