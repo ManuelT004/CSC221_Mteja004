{
  "nbformat": 4,
  "nbformat_minor": 0,
  "metadata": {
    "colab": {
      "provenance": [],
      "authorship_tag": "ABX9TyNSs3PcmZBLF/fdOrOg2rq2",
      "include_colab_link": true
    },
    "kernelspec": {
      "name": "python3",
      "display_name": "Python 3"
    },
    "language_info": {
      "name": "python"
    }
  },
  "cells": [
    {
      "cell_type": "markdown",
      "metadata": {
        "id": "view-in-github",
        "colab_type": "text"
      },
      "source": [
        "<a href=\"https://colab.research.google.com/github/ManuelT004/CSC221_Mteja004/blob/main/Assignment4.ipynb\" target=\"_parent\"><img src=\"https://colab.research.google.com/assets/colab-badge.svg\" alt=\"Open In Colab\"/></a>"
      ]
    },
    {
      "cell_type": "code",
      "execution_count": null,
      "metadata": {
        "colab": {
          "base_uri": "https://localhost:8080/"
        },
        "id": "SEpiikHguK8M",
        "outputId": "981fe5f0-5985-4159-c414-cce030dc0a73"
      },
      "outputs": [
        {
          "output_type": "stream",
          "name": "stdout",
          "text": [
            "['trek', 'cannodale', 'redline', 'specialized']\n",
            "Redline\n",
            "Specialized\n",
            "i personally have a bike it is a Trek bike\n"
          ]
        }
      ],
      "source": [
        "bicycles = ['trek', 'cannodale', 'redline', 'specialized']\n",
        "print(bicycles)\n",
        "print(bicycles[2].title())\n",
        "print(bicycles[-1].title())\n",
        "print(f'i personally have a bike it is a {bicycles[0].title()} bike')"
      ]
    },
    {
      "cell_type": "code",
      "source": [
        "#tiy 3-1\n",
        "friends = ['julio', 'josh', 'kayo', 'maiah', ]\n",
        "print(friends[0].title())\n",
        "print(friends[1].title())\n",
        "print(friends[2].title())\n",
        "print(friends[3].title())"
      ],
      "metadata": {
        "colab": {
          "base_uri": "https://localhost:8080/"
        },
        "id": "x3gG4Vn8wsGp",
        "outputId": "a1e7d7e8-095a-48c2-98cf-41eee8e88b98"
      },
      "execution_count": null,
      "outputs": [
        {
          "output_type": "stream",
          "name": "stdout",
          "text": [
            "Julio\n",
            "Josh\n",
            "Kayo\n",
            "Maiah\n"
          ]
        }
      ]
    },
    {
      "cell_type": "code",
      "source": [
        "#tiy 3-2\n",
        "print(f'hey do u wanna come to a party tonight {friends[0].title()}')\n",
        "print(f'hey do u wanna come to a party tonight {friends[1].title()}')\n",
        "print(f'hey do u wanna come to a party tonight {friends[2].title()}')\n",
        "print(f'hey do u wanna come to a party tonight {friends[3].title()}')"
      ],
      "metadata": {
        "colab": {
          "base_uri": "https://localhost:8080/"
        },
        "id": "yR6ZzfqhxP-9",
        "outputId": "2a02b146-bb95-4d9b-95e7-0317d5b747d6"
      },
      "execution_count": null,
      "outputs": [
        {
          "output_type": "stream",
          "name": "stdout",
          "text": [
            "hey do u wanna come to a party tonight Julio\n",
            "hey do u wanna come to a party tonight Josh\n",
            "hey do u wanna come to a party tonight Kayo\n",
            "hey do u wanna come to a party tonight Maiah\n"
          ]
        }
      ]
    },
    {
      "cell_type": "code",
      "source": [
        "transport = ['car', 'motorcycle', 'plane', 'train', 'boat']\n",
        "print(f'although i love to drive i currently dont own a {transport[0].title()}')\n",
        "print(f'I love the idea of a {transport[1].title()}, i fear its less efficent then {transport[0].title()}')\n",
        "print(f'I think {transport[2].title()} is a cool transportaion system and most effective but its so expensive and makes me a bit scared ')\n",
        "print(f'I personally love taking the {transport[3].title()} it just has a wonderful vibe associated with it')\n",
        "print(f'i love the ocean so its only natural that i also love {transport[-1].title()}')\n"
      ],
      "metadata": {
        "colab": {
          "base_uri": "https://localhost:8080/"
        },
        "id": "gteFeheoyHn5",
        "outputId": "63d72021-dc75-4a7a-fef2-e8ca3509990c"
      },
      "execution_count": null,
      "outputs": [
        {
          "output_type": "stream",
          "name": "stdout",
          "text": [
            "although i love to drive i currently dont own a Car\n",
            "I love the idea of a Motorcycle, i fear its less efficent then Car\n",
            "I think Plane is a cool transportaion system and most effective but its so expensive and makes me a bit scared \n",
            "I personally love taking the Train it just has a wonderful vibe associated with it\n",
            "i love the ocean so its only natural that i also love Boat\n"
          ]
        }
      ]
    },
    {
      "cell_type": "code",
      "source": [
        "motorcycles = ['honda', 'yamaha', 'suzuki']\n",
        "print(motorcycles)\n",
        "\n"
      ],
      "metadata": {
        "colab": {
          "base_uri": "https://localhost:8080/"
        },
        "id": "r7nodD0q0WaG",
        "outputId": "ff44a1a4-1758-4afb-ed49-748cde4e6f43"
      },
      "execution_count": null,
      "outputs": [
        {
          "output_type": "stream",
          "name": "stdout",
          "text": [
            "['honda', 'yamaha', 'suzuki']\n"
          ]
        }
      ]
    },
    {
      "cell_type": "code",
      "source": [
        "motorcycles.append('ducati')\n",
        "print(motorcycles)\n"
      ],
      "metadata": {
        "colab": {
          "base_uri": "https://localhost:8080/"
        },
        "id": "0yI7O0HH00H9",
        "outputId": "412a2dfa-f853-4809-f42c-0aa052985847"
      },
      "execution_count": null,
      "outputs": [
        {
          "output_type": "stream",
          "name": "stdout",
          "text": [
            "['honda', 'yamaha', 'suzuki', 'ducati', 'ducati', 'ducati']\n"
          ]
        }
      ]
    },
    {
      "cell_type": "code",
      "source": [
        "motorcycles.insert(0,'this is how u place things specifically in list')\n",
        "print(motorcycles)\n"
      ],
      "metadata": {
        "id": "eGD5CKoC1CY3"
      },
      "execution_count": null,
      "outputs": []
    },
    {
      "cell_type": "code",
      "source": [
        "print(motorcycles)\n",
        "del motorcycles[4]\n",
        "del motorcycles[5]\n"
      ],
      "metadata": {
        "colab": {
          "base_uri": "https://localhost:8080/"
        },
        "id": "K3QSj-AM1WVn",
        "outputId": "b6b422df-bdca-42b4-c46b-f2119ba823f2"
      },
      "execution_count": null,
      "outputs": [
        {
          "output_type": "stream",
          "name": "stdout",
          "text": [
            "['this is how u place things specifically in list', 'honda', 'yamaha', 'suzuki', 'ducati', 'ducati', 'ducati']\n"
          ]
        }
      ]
    },
    {
      "cell_type": "code",
      "source": [
        "print(motorcycles)"
      ],
      "metadata": {
        "colab": {
          "base_uri": "https://localhost:8080/"
        },
        "id": "oKYAryRh1pKY",
        "outputId": "c77085ed-de10-4463-a259-4b92e3806d4e"
      },
      "execution_count": null,
      "outputs": [
        {
          "output_type": "stream",
          "name": "stdout",
          "text": [
            "['this is how u place things specifically in list', 'honda', 'yamaha', 'suzuki', 'ducati']\n"
          ]
        }
      ]
    },
    {
      "cell_type": "code",
      "source": [
        "popped_motorcycles = motorcycles.pop()\n",
        "print(motorcycles)\n",
        "print(popped_motorcycles)"
      ],
      "metadata": {
        "colab": {
          "base_uri": "https://localhost:8080/"
        },
        "id": "w3JX4UxO2Car",
        "outputId": "dc9779c6-6666-4f3b-d545-244c0547202b"
      },
      "execution_count": null,
      "outputs": [
        {
          "output_type": "stream",
          "name": "stdout",
          "text": [
            "['this is how u place things specifically in list', 'honda', 'yamaha', 'suzuki']\n",
            "ducati\n"
          ]
        }
      ]
    },
    {
      "cell_type": "code",
      "source": [
        "crash_bike = motorcycles.pop(1)\n",
        "print(f'i love all my bikes but unforunately i crashed my {crash_bike}')\n",
        "print(motorcycles)"
      ],
      "metadata": {
        "colab": {
          "base_uri": "https://localhost:8080/"
        },
        "id": "s6-g88rI2qXH",
        "outputId": "47662a87-0d95-43c6-cd22-91b694cc8750"
      },
      "execution_count": null,
      "outputs": [
        {
          "output_type": "stream",
          "name": "stdout",
          "text": [
            "i love all my bikes but unforunately i crashed my honda\n"
          ]
        }
      ]
    },
    {
      "cell_type": "code",
      "source": [
        "# how to remove a specific data from a list\n",
        "motorcycles.remove('suzuki')\n",
        "print(motorcycles)"
      ],
      "metadata": {
        "colab": {
          "base_uri": "https://localhost:8080/"
        },
        "id": "p1uY-0Pa3ESe",
        "outputId": "1d2aec20-e7a1-467d-a019-70b536a7f345"
      },
      "execution_count": null,
      "outputs": [
        {
          "output_type": "stream",
          "name": "stdout",
          "text": [
            "['this is how u place things specifically in list', 'yamaha']\n"
          ]
        }
      ]
    },
    {
      "cell_type": "code",
      "source": [
        "#tiy 3-4\n",
        "guest_list = ['karl marxx', 'stalin', 'uncle roger']\n",
        "print(f'good evening, {guest_list[0].title()} i would like to invite you to dinner to discuss politics')\n",
        "print(f'good evening, {guest_list[1].title()} i would like to invite you to dinner to discuss politics')\n",
        "print(f'good evening neighbor, {guest_list[2].title()} i would like to borrow you tonight to be a mediator over dinner')\n",
        "\n"
      ],
      "metadata": {
        "colab": {
          "base_uri": "https://localhost:8080/"
        },
        "id": "8aR489CT3hF2",
        "outputId": "ba9e0d39-7973-49b6-f4f4-5b99feeabcbf"
      },
      "execution_count": null,
      "outputs": [
        {
          "output_type": "stream",
          "name": "stdout",
          "text": [
            "good evening, Karl Marxx i would like to invite you to dinner to discuss politics\n",
            "good evening, Stalin i would like to invite you to dinner to discuss politics\n",
            "good evening neighbor, Uncle Roger i would like to borrow you tonight to be a mediator over dinner\n"
          ]
        }
      ]
    },
    {
      "cell_type": "code",
      "source": [
        "#tiy 3-5\n",
        "guest_list = ['karl marxx', 'stalin', 'uncle roger']\n",
        "print(f'good evening, {guest_list[0].title()} i would like to invite you to dinner to discuss politics')\n",
        "print(f'good evening, {guest_list[1].title()} i would like to invite you to dinner to discuss politics')\n",
        "print(f'good evening neighbor, {guest_list[2].title()} i would like to borrow you tonight to be a mediator over dinner')\n",
        "print(f'unfornutaely i have gotten word that {guest_list[2].title()} wont be making it')\n",
        "guest_list.remove('uncle roger')\n",
        "guest_list.append('bob ross')\n",
        "print(f'good evening, {guest_list[0].title()} i would like to invite you to dinner to discuss politics with our new member for dinner')\n",
        "print(f'good evening, {guest_list[1].title()} i would like to invite you to dinner to discuss politics with our new guest for the night')\n",
        "print(f'i would just like to say thank you so much {guest_list[2].title()} for doing this on short notice, saved dinner for us all')\n",
        "\n"
      ],
      "metadata": {
        "colab": {
          "base_uri": "https://localhost:8080/"
        },
        "id": "6B3bOUu95A92",
        "outputId": "d0f4a65c-69b1-4b36-d04a-f27a8a702812"
      },
      "execution_count": null,
      "outputs": [
        {
          "output_type": "stream",
          "name": "stdout",
          "text": [
            "good evening, Karl Marxx i would like to invite you to dinner to discuss politics\n",
            "good evening, Stalin i would like to invite you to dinner to discuss politics\n",
            "good evening neighbor, Uncle Roger i would like to borrow you tonight to be a mediator over dinner\n",
            "unfornutaely i have gotten word that Uncle Roger wont be making it\n",
            "good evening, Karl Marxx i would like to invite you to dinner to discuss politics with our new member for dinner\n",
            "good evening, Stalin i would like to invite you to dinner to discuss politics with our new guest for the night\n",
            "i would just like to say thank you so much Bob Ross for doing this on short notice, saved dinner for us all\n"
          ]
        }
      ]
    },
    {
      "cell_type": "code",
      "source": [
        "#tiy 3-6\n",
        "print('the resurant has given us more room and we will be inviting more people for dinner')\n",
        "guest_list.insert(0, 'Winston churchill')\n",
        "guest_list.insert(2, 'alexander the great')\n",
        "guest_list.append('Julis Ceaser')\n",
        "print(f'good evening, {guest_list[0].title()} i would like to invite you to dinner to discuss politics')\n",
        "print(f'good evening, {guest_list[1].title()} i would like to invite you to dinner to discuss politics with our new new guest for the night')\n",
        "print(f'good evening, {guest_list[2].title()} i would like to invite you to dinner to discuss politics')\n",
        "print(f'good evening, {guest_list[3].title()} i would like to invite you to dinner to discuss politics with our new new guest for the night')\n",
        "print(f'good evening, {guest_list[4].title()} i would like to invite you to dinner to discuss politics its sure to be great with your inclusion')\n",
        "print(f'good evening, {guest_list[5].title()} i would like to invite you to dinner to discuss politics')"
      ],
      "metadata": {
        "colab": {
          "base_uri": "https://localhost:8080/"
        },
        "id": "__AUhIbl7saT",
        "outputId": "68058bf3-1ecc-45cb-9630-e82b6f3ce1f7"
      },
      "execution_count": null,
      "outputs": [
        {
          "output_type": "stream",
          "name": "stdout",
          "text": [
            "the resurant has given us more room and we will be inviting more people for dinner\n",
            "good evening, Winston Churchill i would like to invite you to dinner to discuss politics\n",
            "good evening, Karl Marxx i would like to invite you to dinner to discuss politics with our new new guest for the night\n",
            "good evening, Alexander The Great i would like to invite you to dinner to discuss politics\n",
            "good evening, Stalin i would like to invite you to dinner to discuss politics with our new new guest for the night\n",
            "good evening, Bob Ross i would like to invite you to dinner to discuss politics its sure to be great with your inclusion\n",
            "good evening, Julis Ceaser i would like to invite you to dinner to discuss politics\n"
          ]
        }
      ]
    },
    {
      "cell_type": "code",
      "source": [
        "#tiy 3-7\n",
        "\n",
        "print('unfortunately the resturant is unable to supply the table they promised so only two are gonna be able to attend')\n",
        "univited = guest_list.pop\n",
        "print(f'i would like to apoligize for not being able to invite you to dinner {guest_list[5].title()}')\n",
        "guest_list.pop(5)\n",
        "print(f'i would like to apoligize for not being able to invite you to dinner {guest_list[4].title()}')\n",
        "guest_list.pop(4)\n",
        "print(f'i would like to apoligize for not being able to invite you to dinner {guest_list[3].title()}')\n",
        "guest_list.pop(3)\n",
        "print(f'i would like to apoligize for not being able to invite you to dinner {guest_list[2].title()}')\n",
        "guest_list.pop(2)\n",
        "print(f'{guest_list[0]} and {guest_list[1]} are still invited and able to come')\n",
        "del guest_list[1]\n",
        "del guest_list[0]\n",
        "print(guest_list)\n",
        "\n"
      ],
      "metadata": {
        "colab": {
          "base_uri": "https://localhost:8080/"
        },
        "id": "fgXgR5mYxYqu",
        "outputId": "bd9a744c-1312-4542-a44d-923c7b2b98f4"
      },
      "execution_count": null,
      "outputs": [
        {
          "output_type": "stream",
          "name": "stdout",
          "text": [
            "unfortunately the resturant is unable to supply the table they promised so only two are gonna be able to attend\n",
            "i would like to apoligize for not being able to invite you to dinner Julis Ceaser\n",
            "i would like to apoligize for not being able to invite you to dinner Bob Ross\n",
            "i would like to apoligize for not being able to invite you to dinner Stalin\n",
            "i would like to apoligize for not being able to invite you to dinner Alexander The Great\n",
            "Winston churchill and karl marxx are still invited and able to come\n",
            "[]\n"
          ]
        }
      ]
    },
    {
      "cell_type": "code",
      "source": [
        "#+tiy 3-8\n",
        "\n",
        "location = ['japan', 'ireland', 'italy', 'greece', 'underworld']\n",
        "\n",
        "print(location)\n",
        "\n",
        "print(sorted(location))\n",
        "\n",
        "print(location)\n",
        "\n",
        "print(reverse(location))\n",
        "\n",
        "print(location)\n",
        "\n",
        "location.reverse()\n",
        "\n",
        "print(location)\n",
        "\n",
        "location.reverse()\n",
        "\n",
        "print(location)\n",
        "\n",
        "location.sort()\n",
        "\n",
        "print(location)\n",
        "\n",
        "location.sort(reverse = True)\n",
        "\n",
        "print(location)\n",
        "\n"
      ],
      "metadata": {
        "colab": {
          "base_uri": "https://localhost:8080/"
        },
        "id": "swMP8Nu49M8G",
        "outputId": "0fdc3194-9ed3-492e-8902-f9edffd8efc0"
      },
      "execution_count": null,
      "outputs": [
        {
          "output_type": "stream",
          "name": "stdout",
          "text": [
            "['japan', 'ireland', 'italy', 'greece', 'underworld']\n",
            "None\n",
            "['greece', 'ireland', 'italy', 'japan', 'underworld']\n",
            "None\n",
            "['underworld', 'japan', 'italy', 'ireland', 'greece']\n",
            "['greece', 'ireland', 'italy', 'japan', 'underworld']\n",
            "['underworld', 'japan', 'italy', 'ireland', 'greece']\n",
            "['greece', 'ireland', 'italy', 'japan', 'underworld']\n",
            "['underworld', 'japan', 'italy', 'ireland', 'greece']\n"
          ]
        }
      ]
    },
    {
      "cell_type": "code",
      "source": [
        "#3-9\n",
        "print(f'In total we are invinting {len(guest_list)} guest.')"
      ],
      "metadata": {
        "colab": {
          "base_uri": "https://localhost:8080/"
        },
        "id": "l7h4vCZmjPqR",
        "outputId": "43ebeea0-744a-4bd4-cd0f-c88b37f701fd"
      },
      "execution_count": null,
      "outputs": [
        {
          "output_type": "stream",
          "name": "stdout",
          "text": [
            "In total we are invinting 3\n"
          ]
        }
      ]
    },
    {
      "cell_type": "code",
      "source": [],
      "metadata": {
        "id": "s8GyRsvs61ZX"
      },
      "execution_count": null,
      "outputs": []
    },
    {
      "cell_type": "code",
      "source": [
        "#tiy 3-10\n",
        "food_list = ['bread', 'banana', 'cucumber', 'eggplant', 'carrot', 'pickles']\n",
        "print(food_list)\n",
        "print(f'I have a few things on my food list\\n' +\n",
        "      f'{food_list}\\n' +\n",
        "      'actually i should add eggs')\n",
        "food_list.append('eggs')\n",
        "print('lemme check the list now' +\n",
        "      f'{food_list}\\n' +\n",
        "     'actually lemme take off banana and bread just in case i need it'\n",
        "      )\n",
        "banana = food_list.pop(1)\n",
        "bread = food_list.pop(0)\n",
        "food_list.pop(1)\n",
        "food_list.pop(0)\n",
        "print('okay lets see here, the list is now\\n' +\n",
        "      f'{food_list}\\n' +\n",
        "      f'and the other list i made for things to double check things i need for sure\\n' +\n",
        "      f'{other_list}\\n'\n",
        "      'well upon futher inspection, i have bread but no bananas')\n",
        "food_list.append(banana)\n",
        "print(f'okay so what we need is {food_list}\\n' +\n",
        "     'lemme just fix the list so it looks more neat'\n",
        "    )\n",
        "food_list.sort()\n",
        "print('one final look\\n' + f'{food_list}')\n",
        "\n",
        "\n",
        "\n"
      ],
      "metadata": {
        "colab": {
          "base_uri": "https://localhost:8080/"
        },
        "id": "JhoMSjCblapP",
        "outputId": "016d4ba1-0df7-4f12-a0b1-6526b925988f"
      },
      "execution_count": null,
      "outputs": [
        {
          "output_type": "stream",
          "name": "stdout",
          "text": [
            "['bread', 'banana', 'cucumber', 'eggplant', 'carrot', 'pickles']\n",
            "I have a few things on my food list\n",
            "['bread', 'banana', 'cucumber', 'eggplant', 'carrot', 'pickles']\n",
            "actually i should add eggs\n",
            "lemme check the list now['bread', 'banana', 'cucumber', 'eggplant', 'carrot', 'pickles', 'eggs']\n",
            "actually lemme take off banana and bread just in case i need it\n",
            "okay lets see here, the list is now\n",
            "['carrot', 'pickles', 'eggs']\n",
            "and the other list i made for things to double check things i need for sure\n",
            "[]\n",
            "well upon futher inspection, i have bread but no bananas\n",
            "okay so what we need is ['carrot', 'pickles', 'eggs', 'banana']\n",
            "lemme just fix the list so it looks more neat\n",
            "one final look\n",
            "['banana', 'carrot', 'eggs', 'pickles']\n"
          ]
        }
      ]
    },
    {
      "cell_type": "code",
      "source": [
        "#tiy 3-11\n",
        "\n",
        "Friends = ['julio', 'will', 'maiah', 'kay']\n",
        "\n",
        "def remember():\n",
        "  try:\n",
        "    print(f'hold up i think i am a fith friend, {Friends[4]}')\n",
        "  except IndexError:\n",
        "    print(f'i guess there is no fith friend, theres only {Friends}')\n",
        "  finally:\n",
        "    print('yeah idk why i tried that')\n",
        "\n",
        "print(f'I belive i have a fith friend')\n",
        "print(remember())"
      ],
      "metadata": {
        "colab": {
          "base_uri": "https://localhost:8080/"
        },
        "id": "8Do8MI1ibp-n",
        "outputId": "9437586b-2cc8-4c4b-ce30-07f3a325e2b2"
      },
      "execution_count": null,
      "outputs": [
        {
          "output_type": "stream",
          "name": "stdout",
          "text": [
            "I belive i have a fith friend\n",
            "i guess there is no fith friend, theres only ['julio', 'will', 'maiah', 'kay']\n",
            "yeah idk why i tried that\n",
            "None\n"
          ]
        }
      ]
    },
    {
      "cell_type": "code",
      "source": [
        "#two list comprehension questions\n",
        "ints = {63, 70, 77, 84}\n",
        "#[ints(0,1,2,3)**3]\n",
        "\n",
        "def equation():\n",
        "    print((ints[0])**3)\n",
        "    print((ints[1])**3)\n",
        "    print((ints[2])**3)\n",
        "    print((ints[3])**3)\n",
        "\n",
        "print(equation())"
      ],
      "metadata": {
        "colab": {
          "base_uri": "https://localhost:8080/"
        },
        "id": "TTUgDrzOIVR8",
        "outputId": "cd93709d-9d18-46ec-de49-736b4c410010"
      },
      "execution_count": null,
      "outputs": [
        {
          "output_type": "stream",
          "name": "stdout",
          "text": [
            "250047\n",
            "343000\n",
            "456533\n",
            "592704\n",
            "None\n"
          ]
        }
      ]
    },
    {
      "cell_type": "code",
      "source": [
        "num = [40, 50, 120, -8, 6]\n",
        "\n",
        "def do_thang():\n",
        "  print((num[0])* 7.4 + 51)\n",
        "  print((num[1])* 7.4 + 51)\n",
        "  print((num[2])* 7.4 + 51)\n",
        "  print((num[3])* 7.4 + 51)\n",
        "  print((num[4])* 7.4 + 51)\n",
        "\n",
        "print(do_thang())"
      ],
      "metadata": {
        "colab": {
          "base_uri": "https://localhost:8080/"
        },
        "id": "P1XwyqC4hC1w",
        "outputId": "d9220623-4023-474e-877f-1da7a2aa83ce"
      },
      "execution_count": 2,
      "outputs": [
        {
          "output_type": "stream",
          "name": "stdout",
          "text": [
            "347.0\n",
            "421.0\n",
            "939.0\n",
            "-8.200000000000003\n",
            "95.4\n",
            "None\n"
          ]
        }
      ]
    }
  ]
}