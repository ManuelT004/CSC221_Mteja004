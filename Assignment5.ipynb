{
  "nbformat": 4,
  "nbformat_minor": 0,
  "metadata": {
    "colab": {
      "provenance": [],
      "authorship_tag": "ABX9TyMDFJ3nQTLXSe9gyofUkyde",
      "include_colab_link": true
    },
    "kernelspec": {
      "name": "python3",
      "display_name": "Python 3"
    },
    "language_info": {
      "name": "python"
    }
  },
  "cells": [
    {
      "cell_type": "markdown",
      "metadata": {
        "id": "view-in-github",
        "colab_type": "text"
      },
      "source": [
        "<a href=\"https://colab.research.google.com/github/ManuelT004/CSC221_Mteja004/blob/main/Assignment5.ipynb\" target=\"_parent\"><img src=\"https://colab.research.google.com/assets/colab-badge.svg\" alt=\"Open In Colab\"/></a>"
      ]
    },
    {
      "cell_type": "code",
      "execution_count": null,
      "metadata": {
        "id": "2_yDc9vBzDSa",
        "colab": {
          "base_uri": "https://localhost:8080/"
        },
        "outputId": "d1eb9636-7803-4986-d70d-53db557f3d22"
      },
      "outputs": [
        {
          "output_type": "stream",
          "name": "stdout",
          "text": [
            "hello world\n"
          ]
        }
      ],
      "source": [
        "print('hello world')"
      ]
    },
    {
      "cell_type": "code",
      "source": [
        "magicians = ['alice', 'david', 'caroline']\n",
        "\n",
        "for magician in magicians:\n",
        "  print(magician)"
      ],
      "metadata": {
        "colab": {
          "base_uri": "https://localhost:8080/"
        },
        "id": "J_duN5uJJWSq",
        "outputId": "eab133c4-5116-455c-87bb-f02daa8e557a"
      },
      "execution_count": null,
      "outputs": [
        {
          "output_type": "stream",
          "name": "stdout",
          "text": [
            "alice\n",
            "david\n",
            "caroline\n"
          ]
        }
      ]
    },
    {
      "cell_type": "code",
      "source": [
        "magicians = ['alice', 'david', 'caroline']\n",
        "\n",
        "for magician in magicians:\n",
        "  print(f'{magician.title()}, that was a great trick')"
      ],
      "metadata": {
        "colab": {
          "base_uri": "https://localhost:8080/"
        },
        "id": "lqrxZJgFSvdz",
        "outputId": "9c205524-a8bc-43d4-8294-ca2f8f6ec80b"
      },
      "execution_count": null,
      "outputs": [
        {
          "output_type": "stream",
          "name": "stdout",
          "text": [
            "Alice, that was a great trick\n",
            "David, that was a great trick\n",
            "Caroline, that was a great trick\n"
          ]
        }
      ]
    },
    {
      "cell_type": "code",
      "source": [
        "magicians = ['alice', 'david', 'caroline']\n",
        "\n",
        "for magician in magicians:\n",
        "  print(f'{magician.title()}, that was a great trick')\n",
        "  print(f'I cannot wait for you to unveil your next trick {magician.title()}\\n')"
      ],
      "metadata": {
        "colab": {
          "base_uri": "https://localhost:8080/"
        },
        "id": "SgCwq1swTcAf",
        "outputId": "0a0dbd3a-d752-4324-d2b0-fb55cc5585c8"
      },
      "execution_count": null,
      "outputs": [
        {
          "output_type": "stream",
          "name": "stdout",
          "text": [
            "Alice, that was a great trick\n",
            "I cannot wait for you to unveil your next trick Alice\n",
            "\n",
            "David, that was a great trick\n",
            "I cannot wait for you to unveil your next trick David\n",
            "\n",
            "Caroline, that was a great trick\n",
            "I cannot wait for you to unveil your next trick Caroline\n",
            "\n"
          ]
        }
      ]
    },
    {
      "cell_type": "code",
      "source": [
        "magicians = ['alice', 'david', 'caroline']\n",
        "\n",
        "for magician in magicians:\n",
        "  print(f'{magician.title()}, that was a great trick')\n",
        "  print(f'I cannot wait for you to unveil your next trick {magician.title()}\\n')\n",
        "\n",
        "print('everyone, that was a wonderful performance. Thank you all for trying your best')"
      ],
      "metadata": {
        "colab": {
          "base_uri": "https://localhost:8080/"
        },
        "id": "eWKiB3uDU7lJ",
        "outputId": "5b1814c3-4f57-4bde-da85-ac2af8512b46"
      },
      "execution_count": null,
      "outputs": [
        {
          "output_type": "stream",
          "name": "stdout",
          "text": [
            "Alice, that was a great trick\n",
            "I cannot wait for you to unveil your next trick Alice\n",
            "\n",
            "David, that was a great trick\n",
            "I cannot wait for you to unveil your next trick David\n",
            "\n",
            "Caroline, that was a great trick\n",
            "I cannot wait for you to unveil your next trick Caroline\n",
            "\n",
            "everyone, that was a wonderful performance. Thank you all for trying your best\n"
          ]
        }
      ]
    },
    {
      "cell_type": "code",
      "source": [
        "#im skipping the next couple examples in the textbook cause its all about indentation and that is basically just proper syntax and i feel like sitting here\n",
        "#showing how to incorrectly do it and how to do it properly is just a waste of time"
      ],
      "metadata": {
        "id": "pmsVfSlvVTTQ"
      },
      "execution_count": null,
      "outputs": []
    },
    {
      "cell_type": "code",
      "source": [
        "#tiy 4-1\n",
        "pizzas = ['meat lovers pizza', 'hawaiin style pizza', 'chicago style pizza']\n",
        "\n",
        "print('what kind of pizzas i like?\\n')\n",
        "\n",
        "for pizza in pizzas:\n",
        "  print(f'ig i really like\\n'\n",
        "   f'{pizza}\\n')\n",
        "\n",
        "print('those are probably my favorites\\n'\n",
        "'if i had to order them itd go like\\n'\n",
        "f'{pizzas[0]}, then {pizzas[1]}, and finally {pizzas[2]}')"
      ],
      "metadata": {
        "colab": {
          "base_uri": "https://localhost:8080/"
        },
        "id": "rOH-B1nYWFMm",
        "outputId": "f4b4b336-d915-49ed-aeab-c69c80a97a1c"
      },
      "execution_count": 22,
      "outputs": [
        {
          "output_type": "stream",
          "name": "stdout",
          "text": [
            "what kind of pizzas i like?\n",
            "\n",
            "ig i really like\n",
            "meat lovers pizza\n",
            "\n",
            "ig i really like\n",
            "hawaiin style pizza\n",
            "\n",
            "ig i really like\n",
            "chicago style pizza\n",
            "\n",
            "those are probably my favorites\n",
            "if i had to order them itd go like\n",
            "meat lovers pizza, then hawaiin style pizza, and finally chicago style pizza\n"
          ]
        }
      ]
    },
    {
      "cell_type": "code",
      "source": [
        "#tiy 4-2\n",
        "\n",
        "animals = ['cats', 'cheetahs', 'tigers']\n",
        "\n",
        "print('ngl i just love cats')\n",
        "\n",
        "for animal in animals:\n",
        "  print(animal)\n",
        "\n",
        "print(f'{animals[0]} are great house pets\\n'\n",
        "f'{animals[1]} and {animals[2]} are bigger cats and even though i would love to have some, i think it woould be dangerous\\n'\n",
        "'at the end of the day they are all just cute cats'\n",
        ")\n",
        "\n"
      ],
      "metadata": {
        "colab": {
          "base_uri": "https://localhost:8080/"
        },
        "id": "dK_u2rpcZQ25",
        "outputId": "f4c1141e-3182-45b4-9d05-c0207d817867"
      },
      "execution_count": null,
      "outputs": [
        {
          "output_type": "stream",
          "name": "stdout",
          "text": [
            "ngl i just love cats\n",
            "cats\n",
            "cheetahs\n",
            "tigers\n",
            "cats are great house pets\n",
            "cheetahs and tigers are bigger cats and even though i would love to have some, i think it woould be dangerous\n",
            "at the end of the day they are all just cute cats\n"
          ]
        }
      ]
    },
    {
      "cell_type": "code",
      "source": [
        "for value in range(1,5):\n",
        "  print(value)"
      ],
      "metadata": {
        "colab": {
          "base_uri": "https://localhost:8080/"
        },
        "id": "9xhJjgTgf7EQ",
        "outputId": "34ab9db7-19ea-4a6f-ee0a-acf228e899f5"
      },
      "execution_count": null,
      "outputs": [
        {
          "output_type": "stream",
          "name": "stdout",
          "text": [
            "1\n",
            "2\n",
            "3\n",
            "4\n"
          ]
        }
      ]
    },
    {
      "cell_type": "code",
      "source": [
        "for value in range(1,6):\n",
        "  print(value)"
      ],
      "metadata": {
        "colab": {
          "base_uri": "https://localhost:8080/"
        },
        "id": "eC3j1QuDghTH",
        "outputId": "782c651b-ff6b-48d5-fcd3-650c90ca4c67"
      },
      "execution_count": null,
      "outputs": [
        {
          "output_type": "stream",
          "name": "stdout",
          "text": [
            "1\n",
            "2\n",
            "3\n",
            "4\n",
            "5\n"
          ]
        }
      ]
    },
    {
      "cell_type": "code",
      "source": [
        "even_numbers = list(range(2, 11, 2))\n",
        "\n",
        "print(even_numbers)"
      ],
      "metadata": {
        "colab": {
          "base_uri": "https://localhost:8080/"
        },
        "id": "EZi7oxIPg14C",
        "outputId": "f0ebe53c-23dc-47d6-c2d9-49540d63123a"
      },
      "execution_count": null,
      "outputs": [
        {
          "output_type": "stream",
          "name": "stdout",
          "text": [
            "[2, 4, 6, 8, 10]\n"
          ]
        }
      ]
    },
    {
      "cell_type": "code",
      "source": [
        "squares = []\n",
        "\n",
        "for value in range(1,11):\n",
        "  squares.append(value ** 2)\n",
        "\n",
        "print(squares)"
      ],
      "metadata": {
        "colab": {
          "base_uri": "https://localhost:8080/"
        },
        "id": "VhuSXrEghyNo",
        "outputId": "85593093-56c2-45f6-df6f-5856693dd389"
      },
      "execution_count": null,
      "outputs": [
        {
          "output_type": "stream",
          "name": "stdout",
          "text": [
            "[1, 4, 9, 16, 25, 36, 49, 64, 81, 100]\n"
          ]
        }
      ]
    },
    {
      "cell_type": "code",
      "source": [
        "cube = [value ** 3 for value in range(1,11)]\n",
        "print(cube)"
      ],
      "metadata": {
        "colab": {
          "base_uri": "https://localhost:8080/"
        },
        "id": "jiFlw_MejJhC",
        "outputId": "8c6a1f7f-5f71-4b7e-bcf7-92883ca4e2ac"
      },
      "execution_count": null,
      "outputs": [
        {
          "output_type": "stream",
          "name": "stdout",
          "text": [
            "[1, 8, 27, 64, 125, 216, 343, 512, 729, 1000]\n"
          ]
        }
      ]
    },
    {
      "cell_type": "code",
      "source": [
        "#tiy 4-3\n",
        "count = [list(range(1,21))]\n",
        "print(count)"
      ],
      "metadata": {
        "colab": {
          "base_uri": "https://localhost:8080/"
        },
        "id": "jCTbNntKjbml",
        "outputId": "92425a37-39dc-48c9-c7ab-0660bca304fd"
      },
      "execution_count": 20,
      "outputs": [
        {
          "output_type": "stream",
          "name": "stdout",
          "text": [
            "[[1, 2, 3, 4, 5, 6, 7, 8, 9, 10, 11, 12, 13, 14, 15, 16, 17, 18, 19, 20]]\n"
          ]
        }
      ]
    },
    {
      "cell_type": "code",
      "source": [
        "#tiy 4-4\n",
        "zillion = []\n",
        "\n",
        "for value in range(1,1000001):\n",
        "  zillion.append(value)\n",
        "\n",
        "print(zillion)"
      ],
      "metadata": {
        "colab": {
          "base_uri": "https://localhost:8080/"
        },
        "id": "wczcG6ZFj9cJ",
        "outputId": "f2d0e650-9d73-4453-d9ed-82d2c95bcb86"
      },
      "execution_count": null,
      "outputs": [
        {
          "output_type": "stream",
          "name": "stderr",
          "text": [
            "IOPub data rate exceeded.\n",
            "The notebook server will temporarily stop sending output\n",
            "to the client in order to avoid crashing it.\n",
            "To change this limit, set the config variable\n",
            "`--NotebookApp.iopub_data_rate_limit`.\n",
            "\n",
            "Current values:\n",
            "NotebookApp.iopub_data_rate_limit=1000000.0 (bytes/sec)\n",
            "NotebookApp.rate_limit_window=3.0 (secs)\n",
            "\n"
          ]
        }
      ]
    },
    {
      "cell_type": "code",
      "source": [
        "#tiy 4-5\n",
        "min(zillion)\n"
      ],
      "metadata": {
        "colab": {
          "base_uri": "https://localhost:8080/"
        },
        "id": "QB_vUdBckc2F",
        "outputId": "f73025c4-b05a-4a5b-c747-8456a215f6ce"
      },
      "execution_count": null,
      "outputs": [
        {
          "output_type": "execute_result",
          "data": {
            "text/plain": [
              "1"
            ]
          },
          "metadata": {},
          "execution_count": 33
        }
      ]
    },
    {
      "cell_type": "code",
      "source": [
        "max(zillion)"
      ],
      "metadata": {
        "colab": {
          "base_uri": "https://localhost:8080/"
        },
        "id": "bR3ASoa7l9vj",
        "outputId": "4039b58a-e1b5-41ff-fa0c-a61eeb581f1e"
      },
      "execution_count": null,
      "outputs": [
        {
          "output_type": "execute_result",
          "data": {
            "text/plain": [
              "1000000"
            ]
          },
          "metadata": {},
          "execution_count": 36
        }
      ]
    },
    {
      "cell_type": "code",
      "source": [
        "sum(zillion)"
      ],
      "metadata": {
        "colab": {
          "base_uri": "https://localhost:8080/"
        },
        "id": "NBQZ0hOFmNAV",
        "outputId": "8f8e6774-d37d-4599-8093-38c03eec7938"
      },
      "execution_count": null,
      "outputs": [
        {
          "output_type": "execute_result",
          "data": {
            "text/plain": [
              "500000500000"
            ]
          },
          "metadata": {},
          "execution_count": 37
        }
      ]
    },
    {
      "cell_type": "code",
      "source": [
        "#tiy 4-6\n",
        "\n",
        "sequence = []\n",
        "\n",
        "for value in range(1,20,2):\n",
        "  sequence.append(value)\n",
        "\n",
        "print(sequence)"
      ],
      "metadata": {
        "colab": {
          "base_uri": "https://localhost:8080/"
        },
        "id": "q7aXyDnZmUvi",
        "outputId": "8215b1ac-5fd8-4014-ae98-3e081e38b188"
      },
      "execution_count": null,
      "outputs": [
        {
          "output_type": "stream",
          "name": "stdout",
          "text": [
            "[1, 3, 5, 7, 9, 11, 13, 15, 17, 19]\n"
          ]
        }
      ]
    },
    {
      "cell_type": "code",
      "source": [
        "#tiy 4-7\n",
        "threes = []\n",
        "\n",
        "for value in range(3,31,3):\n",
        "  threes.append(value)\n",
        "\n",
        "print(threes)"
      ],
      "metadata": {
        "colab": {
          "base_uri": "https://localhost:8080/"
        },
        "id": "KvrPV3XHm6QA",
        "outputId": "0bc8a5ca-b3d4-45a0-f468-402148d5a80b"
      },
      "execution_count": null,
      "outputs": [
        {
          "output_type": "stream",
          "name": "stdout",
          "text": [
            "[3, 6, 9, 12, 15, 18, 21, 24, 27, 30]\n"
          ]
        }
      ]
    },
    {
      "cell_type": "code",
      "source": [
        "#tiy 4-8 and 4-9\n",
        "cube = [value ** 3 for value in range(1,11)]\n",
        "print(cube)"
      ],
      "metadata": {
        "id": "U84u7QhXnPoB"
      },
      "execution_count": null,
      "outputs": []
    },
    {
      "cell_type": "code",
      "source": [
        "players =  ['charles', 'martina', 'micheal', 'florence', 'eli']\n",
        "print(players[0:3])\n",
        "print(players[-3:])\n",
        "for player in players:\n",
        "  print(player.title())"
      ],
      "metadata": {
        "id": "xzcQ9Q8Engmb",
        "colab": {
          "base_uri": "https://localhost:8080/"
        },
        "outputId": "5638680d-8c60-44be-9f0b-656da731499d"
      },
      "execution_count": 4,
      "outputs": [
        {
          "output_type": "stream",
          "name": "stdout",
          "text": [
            "['charles', 'martina', 'micheal']\n",
            "['micheal', 'florence', 'eli']\n",
            "Charles\n",
            "Martina\n",
            "Micheal\n",
            "Florence\n",
            "Eli\n"
          ]
        }
      ]
    },
    {
      "cell_type": "code",
      "source": [
        "my_foods = ['pizza', 'gyro', 'ramen', 'steak', 'rice']\n",
        "friends_food = my_foods[:]\n",
        "\n",
        "friends_food.append('chips & dip')\n",
        "friends_food.append('tomatoes')\n",
        "my_foods.append('fish')\n",
        "\n",
        "\n",
        "\n",
        "print('My favorite foods are')\n",
        "print(my_foods)\n",
        "\n",
        "print('\\n My friends favorite foods are')\n",
        "print(friends_food)\n"
      ],
      "metadata": {
        "colab": {
          "base_uri": "https://localhost:8080/"
        },
        "id": "V4YYLlnKbIGy",
        "outputId": "58740274-9cb3-4dfb-dd4b-2a16372541ab"
      },
      "execution_count": 7,
      "outputs": [
        {
          "output_type": "stream",
          "name": "stdout",
          "text": [
            "My favorite foods are\n",
            "['pizza', 'gyro', 'ramen', 'steak', 'rice', 'fish']\n",
            "\n",
            " My friends favorite foods are\n",
            "['pizza', 'gyro', 'ramen', 'steak', 'rice', 'chips & dip', 'tomatoes']\n"
          ]
        }
      ]
    },
    {
      "cell_type": "code",
      "source": [
        "# tiy 4-10\n",
        "print('the first three items on the list are')\n",
        "print(my_foods[:4])\n",
        "\n",
        "print('\\n the items from the middle of the list are')\n",
        "print(my_foods[2:3])\n",
        "\n",
        "print('\\n the last three items on the list are')\n",
        "print(my_foods[-3:])"
      ],
      "metadata": {
        "colab": {
          "base_uri": "https://localhost:8080/"
        },
        "id": "yN08nl0Ah9lS",
        "outputId": "f6bff0af-55e4-4504-fede-a14cf4f21543"
      },
      "execution_count": 21,
      "outputs": [
        {
          "output_type": "stream",
          "name": "stdout",
          "text": [
            "the first three items on the list are\n",
            "['pizza', 'gyro', 'ramen', 'steak']\n",
            "\n",
            " the items from the middle of the list are\n",
            "['ramen']\n",
            "\n",
            " the last three items on the list are\n",
            "['steak', 'rice', 'fish']\n"
          ]
        }
      ]
    },
    {
      "cell_type": "code",
      "source": [
        "#tiy 4-11\n",
        "friend_pizza = pizzas[:]\n",
        "\n",
        "pizzas.append('gummi pizza')\n",
        "friend_pizza.append('veggie pizza')\n",
        "\n",
        "print('my favorite pizzas are')\n",
        "for pizza in pizzas:\n",
        "  print(pizza)\n",
        "\n",
        "print('\\n my friends favorite pizzas are')\n",
        "for x in friend_pizza:\n",
        "  print(x)\n",
        ""
      ],
      "metadata": {
        "colab": {
          "base_uri": "https://localhost:8080/"
        },
        "id": "Sj8QXNB6kRBD",
        "outputId": "007a58ff-2a12-4a63-8a36-d07c599dcb07"
      },
      "execution_count": 25,
      "outputs": [
        {
          "output_type": "stream",
          "name": "stdout",
          "text": [
            "my favorite pizzas are\n",
            "meat lovers pizza\n",
            "hawaiin style pizza\n",
            "chicago style pizza\n",
            "gummi pizza\n",
            "\n",
            " my friends favorite pizzas are\n",
            "meat lovers pizza\n",
            "hawaiin style pizza\n",
            "chicago style pizza\n",
            "veggie pizza\n"
          ]
        }
      ]
    },
    {
      "cell_type": "code",
      "source": [
        "#tiy 4-12\n",
        "print('my favorite foods are')\n",
        "for x in my_foods:\n",
        "  print(x)\n",
        "\n",
        "\n",
        "print('\\n my friends favorite foods are ')\n",
        "for x in friends_food:\n",
        "  print(x)"
      ],
      "metadata": {
        "colab": {
          "base_uri": "https://localhost:8080/"
        },
        "id": "PkWFkde1mWbI",
        "outputId": "6dd470a9-c7a1-4619-e53f-04019339a487"
      },
      "execution_count": 28,
      "outputs": [
        {
          "output_type": "stream",
          "name": "stdout",
          "text": [
            "my favorite foods are\n",
            "pizza\n",
            "gyro\n",
            "ramen\n",
            "steak\n",
            "rice\n",
            "fish\n",
            "\n",
            " my friends favorite foods are \n",
            "pizza\n",
            "gyro\n",
            "ramen\n",
            "steak\n",
            "rice\n",
            "chips & dip\n",
            "tomatoes\n"
          ]
        }
      ]
    },
    {
      "cell_type": "code",
      "source": [
        "dimensions = (200, 50)\n",
        "\n",
        "print(dimensions[0])\n",
        "print(dimensions[1])\n",
        "\n",
        "for x in dimensions:\n",
        "  print(x)\n",
        "\n",
        "dimensions = (500, 20)\n",
        "\n",
        "print('\\n modified list')\n",
        "print(dimensions)\n",
        "\n",
        "for x in dimensions:\n",
        "  print(x)\n"
      ],
      "metadata": {
        "colab": {
          "base_uri": "https://localhost:8080/"
        },
        "id": "bbuBOa9Un8ER",
        "outputId": "5ecd8e35-f71b-4170-849a-bad16ba8703a"
      },
      "execution_count": 34,
      "outputs": [
        {
          "output_type": "stream",
          "name": "stdout",
          "text": [
            "200\n",
            "50\n",
            "200\n",
            "50\n",
            "\n",
            " modified list\n",
            "(500, 20)\n",
            "500\n",
            "20\n"
          ]
        }
      ]
    },
    {
      "cell_type": "code",
      "source": [
        "#4-13\n",
        "\n",
        "options = ('speggetti', 'lasanga', 'burger', 'pizza', 'fries')\n",
        "\n",
        "for x in options:\n",
        "  print(x)\n",
        "\n",
        "try:\n",
        "  options.append('milk shake')\n",
        "\n",
        "except AttributeError:\n",
        "  print('\\n an error occured \\n')\n",
        "\n",
        "options = ('speggetti', 'lasanga', 'burger', 'hot dogs', 'waffles')\n",
        "\n",
        "for x in options:\n",
        "  print(x)\n",
        "\n",
        "\n"
      ],
      "metadata": {
        "colab": {
          "base_uri": "https://localhost:8080/"
        },
        "id": "FArVi1qSpIiC",
        "outputId": "b8e34c04-6bfb-44d3-cade-c6cc181b9f0d"
      },
      "execution_count": 40,
      "outputs": [
        {
          "output_type": "stream",
          "name": "stdout",
          "text": [
            "speggetti\n",
            "lasanga\n",
            "burger\n",
            "pizza\n",
            "fries\n",
            "\n",
            " an error occured \n",
            "\n",
            "speggetti\n",
            "lasanga\n",
            "burger\n",
            "hot dogs\n",
            "waffles\n"
          ]
        }
      ]
    },
    {
      "cell_type": "code",
      "source": [
        "#tiy 4-14\n",
        "print('very simple things but intresting to look at')"
      ],
      "metadata": {
        "id": "W81BmFOEoW_X"
      },
      "execution_count": null,
      "outputs": []
    },
    {
      "cell_type": "code",
      "source": [
        "#tiy 4-15\n",
        "\n",
        "#reviewing code\n",
        "#i feel that co lab forces its users to comply with the pep 8 stnadards therefore i belive this question is redundant"
      ],
      "metadata": {
        "id": "5jv1dVMytT91"
      },
      "execution_count": null,
      "outputs": []
    },
    {
      "cell_type": "code",
      "source": [
        "#teacher problems\n",
        "\n",
        "def factoral(n):\n",
        "  nums = list(range(1,n+1))\n",
        "  for x in nums:\n",
        "    nums *= x\n",
        "\n",
        "\n",
        "print(factoral(5))\n",
        "print(factoral(10))\n",
        "print(factoral(20))\n",
        "print(factoral(50))"
      ],
      "metadata": {
        "id": "0L9-r-m2vYmZ"
      },
      "execution_count": null,
      "outputs": []
    },
    {
      "cell_type": "code",
      "source": [
        "def special_factoral(n):\n",
        "  nums = list(range(1,n+1))\n",
        "  try:\n",
        "    nums.remove(4)\n",
        "    nums.remove(13)\n",
        "    nums.remove(22)\n",
        "\n",
        "  except ValueError:\n",
        "    pass\n",
        "\n",
        "  for x in nums:\n",
        "    nums *= x\n",
        "\n",
        "print(special_factoral(5))\n",
        "print(special_factoral(10))\n",
        "print(special_factoral(20))\n",
        "print(special_factoral(50))"
      ],
      "metadata": {
        "id": "z_y7W0Qwyvse"
      },
      "execution_count": null,
      "outputs": []
    }
  ]
}