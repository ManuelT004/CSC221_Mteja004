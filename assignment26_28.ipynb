{
  "nbformat": 4,
  "nbformat_minor": 0,
  "metadata": {
    "colab": {
      "provenance": [],
      "authorship_tag": "ABX9TyO8oJU2eEbvxgfxMqbli6+V",
      "include_colab_link": true
    },
    "kernelspec": {
      "name": "python3",
      "display_name": "Python 3"
    },
    "language_info": {
      "name": "python"
    }
  },
  "cells": [
    {
      "cell_type": "markdown",
      "metadata": {
        "id": "view-in-github",
        "colab_type": "text"
      },
      "source": [
        "<a href=\"https://colab.research.google.com/github/ManuelT004/CSC221_Mteja004/blob/main/assignment26_28.ipynb\" target=\"_parent\"><img src=\"https://colab.research.google.com/assets/colab-badge.svg\" alt=\"Open In Colab\"/></a>"
      ]
    },
    {
      "cell_type": "code",
      "execution_count": 2,
      "metadata": {
        "id": "bSZ7-JfVs3Z-",
        "colab": {
          "base_uri": "https://localhost:8080/"
        },
        "outputId": "aa5bcacb-18b8-44ab-9de8-4de786c17cfe"
      },
      "outputs": [
        {
          "output_type": "stream",
          "name": "stdout",
          "text": [
            "4\n",
            "4.5\n",
            "four\n"
          ]
        }
      ],
      "source": [
        "#Cell 1: Demonstrate int, float, and string\n",
        "\n",
        "int_exp = 4\n",
        "float_exp = 4.5\n",
        "string_exp = 'four'\n",
        "\n",
        "print(int_exp)\n",
        "print(float_exp)\n",
        "print(string_exp)\n"
      ]
    },
    {
      "cell_type": "code",
      "source": [
        "#Cell 2: Show how an f-string works (f'Something like this with {something} in it.')\n",
        "\n",
        "print(f'this is how a f string works cause i can call the 4 from the previous cell like this {int_exp}')\n"
      ],
      "metadata": {
        "id": "1AWir810v_zB",
        "colab": {
          "base_uri": "https://localhost:8080/"
        },
        "outputId": "c6b17c20-7c2e-4aba-9521-2f6d976786b8"
      },
      "execution_count": 3,
      "outputs": [
        {
          "output_type": "stream",
          "name": "stdout",
          "text": [
            "this is how a f string works cause i can call the 4 from the previous cell like this 4\n"
          ]
        }
      ]
    },
    {
      "cell_type": "code",
      "source": [
        "#Cell 3: Demonstrate some methods of the string class\n",
        "\n",
        "print(string_exp.upper())\n",
        "print(string_exp.lower())\n"
      ],
      "metadata": {
        "id": "wtJSWc3-v_aw",
        "colab": {
          "base_uri": "https://localhost:8080/"
        },
        "outputId": "d608b54d-23f3-418e-e618-60aa2758661f"
      },
      "execution_count": 4,
      "outputs": [
        {
          "output_type": "stream",
          "name": "stdout",
          "text": [
            "FOUR\n",
            "four\n"
          ]
        }
      ]
    },
    {
      "cell_type": "code",
      "source": [
        "#Cell 4: Do something with a list\n",
        "\n",
        "class_mates =['julio', 'maiah', 'kay', 'will']\n",
        "\n",
        "print(f'my classmates are {class_mates}')\n"
      ],
      "metadata": {
        "id": "_aKQIb2bv_Pp",
        "colab": {
          "base_uri": "https://localhost:8080/"
        },
        "outputId": "329a6cc3-a169-430e-df81-c46043cd2760"
      },
      "execution_count": 5,
      "outputs": [
        {
          "output_type": "stream",
          "name": "stdout",
          "text": [
            "my classmates are ['julio', 'maiah', 'kay', 'will']\n"
          ]
        }
      ]
    },
    {
      "cell_type": "code",
      "source": [
        "#Cell 5: Do something with a list of lists\n",
        "\n",
        "lists = [\n",
        "    [1, 2, 3],\n",
        "    [4, 5, 6],\n",
        "    [7, 8, 9]\n",
        "]\n",
        "\n",
        "print(lists[0][1])\n",
        "print(lists[2][2])\n"
      ],
      "metadata": {
        "id": "-Vg4t5Wov_EG"
      },
      "execution_count": null,
      "outputs": []
    },
    {
      "cell_type": "code",
      "source": [
        "#Cell 6: Show how to print a list in sorted order without changing it.\n",
        "\n",
        "rand_num = [13, 6, 48, 52, 36]\n",
        "\n",
        "print(sorted(rand_num))\n",
        "print(rand_num)"
      ],
      "metadata": {
        "colab": {
          "base_uri": "https://localhost:8080/"
        },
        "id": "FLFEJk6_v-4_",
        "outputId": "afd1a0f2-7ebe-48fd-f0e7-2f21f85b0c4c"
      },
      "execution_count": null,
      "outputs": [
        {
          "output_type": "stream",
          "name": "stdout",
          "text": [
            "[6, 13, 36, 48, 52]\n",
            "[13, 6, 48, 52, 36]\n"
          ]
        }
      ]
    },
    {
      "cell_type": "code",
      "source": [
        "#Cell 7: Printing a series of numbers using for and range\n",
        "\n",
        "for x in range(1,100,13):\n",
        "  print(x)"
      ],
      "metadata": {
        "colab": {
          "base_uri": "https://localhost:8080/"
        },
        "id": "YuSSCjwBv-rp",
        "outputId": "35002c63-ec36-4871-da6f-bb93263ced68"
      },
      "execution_count": null,
      "outputs": [
        {
          "output_type": "stream",
          "name": "stdout",
          "text": [
            "1\n",
            "14\n",
            "27\n",
            "40\n",
            "53\n",
            "66\n",
            "79\n",
            "92\n"
          ]
        }
      ]
    },
    {
      "cell_type": "code",
      "source": [
        "#Cell 8: Printing a series of squares of all numbers from 1 to 1000 that are not multiples of 7 using list comprehension.\n",
        "\n",
        "print([x*x for x in range(1,1000) if x % 7 != 0])\n"
      ],
      "metadata": {
        "colab": {
          "base_uri": "https://localhost:8080/"
        },
        "id": "wJQCfJqnv-fQ",
        "outputId": "7d4072db-ef55-4a2b-afa6-c82969a0040b"
      },
      "execution_count": null,
      "outputs": [
        {
          "output_type": "stream",
          "name": "stdout",
          "text": [
            "[1, 4, 9, 16, 25, 36, 64, 81, 100, 121, 144, 169, 225, 256, 289, 324, 361, 400, 484, 529, 576, 625, 676, 729, 841, 900, 961, 1024, 1089, 1156, 1296, 1369, 1444, 1521, 1600, 1681, 1849, 1936, 2025, 2116, 2209, 2304, 2500, 2601, 2704, 2809, 2916, 3025, 3249, 3364, 3481, 3600, 3721, 3844, 4096, 4225, 4356, 4489, 4624, 4761, 5041, 5184, 5329, 5476, 5625, 5776, 6084, 6241, 6400, 6561, 6724, 6889, 7225, 7396, 7569, 7744, 7921, 8100, 8464, 8649, 8836, 9025, 9216, 9409, 9801, 10000, 10201, 10404, 10609, 10816, 11236, 11449, 11664, 11881, 12100, 12321, 12769, 12996, 13225, 13456, 13689, 13924, 14400, 14641, 14884, 15129, 15376, 15625, 16129, 16384, 16641, 16900, 17161, 17424, 17956, 18225, 18496, 18769, 19044, 19321, 19881, 20164, 20449, 20736, 21025, 21316, 21904, 22201, 22500, 22801, 23104, 23409, 24025, 24336, 24649, 24964, 25281, 25600, 26244, 26569, 26896, 27225, 27556, 27889, 28561, 28900, 29241, 29584, 29929, 30276, 30976, 31329, 31684, 32041, 32400, 32761, 33489, 33856, 34225, 34596, 34969, 35344, 36100, 36481, 36864, 37249, 37636, 38025, 38809, 39204, 39601, 40000, 40401, 40804, 41616, 42025, 42436, 42849, 43264, 43681, 44521, 44944, 45369, 45796, 46225, 46656, 47524, 47961, 48400, 48841, 49284, 49729, 50625, 51076, 51529, 51984, 52441, 52900, 53824, 54289, 54756, 55225, 55696, 56169, 57121, 57600, 58081, 58564, 59049, 59536, 60516, 61009, 61504, 62001, 62500, 63001, 64009, 64516, 65025, 65536, 66049, 66564, 67600, 68121, 68644, 69169, 69696, 70225, 71289, 71824, 72361, 72900, 73441, 73984, 75076, 75625, 76176, 76729, 77284, 77841, 78961, 79524, 80089, 80656, 81225, 81796, 82944, 83521, 84100, 84681, 85264, 85849, 87025, 87616, 88209, 88804, 89401, 90000, 91204, 91809, 92416, 93025, 93636, 94249, 95481, 96100, 96721, 97344, 97969, 98596, 99856, 100489, 101124, 101761, 102400, 103041, 104329, 104976, 105625, 106276, 106929, 107584, 108900, 109561, 110224, 110889, 111556, 112225, 113569, 114244, 114921, 115600, 116281, 116964, 118336, 119025, 119716, 120409, 121104, 121801, 123201, 123904, 124609, 125316, 126025, 126736, 128164, 128881, 129600, 130321, 131044, 131769, 133225, 133956, 134689, 135424, 136161, 136900, 138384, 139129, 139876, 140625, 141376, 142129, 143641, 144400, 145161, 145924, 146689, 147456, 148996, 149769, 150544, 151321, 152100, 152881, 154449, 155236, 156025, 156816, 157609, 158404, 160000, 160801, 161604, 162409, 163216, 164025, 165649, 166464, 167281, 168100, 168921, 169744, 171396, 172225, 173056, 173889, 174724, 175561, 177241, 178084, 178929, 179776, 180625, 181476, 183184, 184041, 184900, 185761, 186624, 187489, 189225, 190096, 190969, 191844, 192721, 193600, 195364, 196249, 197136, 198025, 198916, 199809, 201601, 202500, 203401, 204304, 205209, 206116, 207936, 208849, 209764, 210681, 211600, 212521, 214369, 215296, 216225, 217156, 218089, 219024, 220900, 221841, 222784, 223729, 224676, 225625, 227529, 228484, 229441, 230400, 231361, 232324, 234256, 235225, 236196, 237169, 238144, 239121, 241081, 242064, 243049, 244036, 245025, 246016, 248004, 249001, 250000, 251001, 252004, 253009, 255025, 256036, 257049, 258064, 259081, 260100, 262144, 263169, 264196, 265225, 266256, 267289, 269361, 270400, 271441, 272484, 273529, 274576, 276676, 277729, 278784, 279841, 280900, 281961, 284089, 285156, 286225, 287296, 288369, 289444, 291600, 292681, 293764, 294849, 295936, 297025, 299209, 300304, 301401, 302500, 303601, 304704, 306916, 308025, 309136, 310249, 311364, 312481, 314721, 315844, 316969, 318096, 319225, 320356, 322624, 323761, 324900, 326041, 327184, 328329, 330625, 331776, 332929, 334084, 335241, 336400, 338724, 339889, 341056, 342225, 343396, 344569, 346921, 348100, 349281, 350464, 351649, 352836, 355216, 356409, 357604, 358801, 360000, 361201, 363609, 364816, 366025, 367236, 368449, 369664, 372100, 373321, 374544, 375769, 376996, 378225, 380689, 381924, 383161, 384400, 385641, 386884, 389376, 390625, 391876, 393129, 394384, 395641, 398161, 399424, 400689, 401956, 403225, 404496, 407044, 408321, 409600, 410881, 412164, 413449, 416025, 417316, 418609, 419904, 421201, 422500, 425104, 426409, 427716, 429025, 430336, 431649, 434281, 435600, 436921, 438244, 439569, 440896, 443556, 444889, 446224, 447561, 448900, 450241, 452929, 454276, 455625, 456976, 458329, 459684, 462400, 463761, 465124, 466489, 467856, 469225, 471969, 473344, 474721, 476100, 477481, 478864, 481636, 483025, 484416, 485809, 487204, 488601, 491401, 492804, 494209, 495616, 497025, 498436, 501264, 502681, 504100, 505521, 506944, 508369, 511225, 512656, 514089, 515524, 516961, 518400, 521284, 522729, 524176, 525625, 527076, 528529, 531441, 532900, 534361, 535824, 537289, 538756, 541696, 543169, 544644, 546121, 547600, 549081, 552049, 553536, 555025, 556516, 558009, 559504, 562500, 564001, 565504, 567009, 568516, 570025, 573049, 574564, 576081, 577600, 579121, 580644, 583696, 585225, 586756, 588289, 589824, 591361, 594441, 595984, 597529, 599076, 600625, 602176, 605284, 606841, 608400, 609961, 611524, 613089, 616225, 617796, 619369, 620944, 622521, 624100, 627264, 628849, 630436, 632025, 633616, 635209, 638401, 640000, 641601, 643204, 644809, 646416, 649636, 651249, 652864, 654481, 656100, 657721, 660969, 662596, 664225, 665856, 667489, 669124, 672400, 674041, 675684, 677329, 678976, 680625, 683929, 685584, 687241, 688900, 690561, 692224, 695556, 697225, 698896, 700569, 702244, 703921, 707281, 708964, 710649, 712336, 714025, 715716, 719104, 720801, 722500, 724201, 725904, 727609, 731025, 732736, 734449, 736164, 737881, 739600, 743044, 744769, 746496, 748225, 749956, 751689, 755161, 756900, 758641, 760384, 762129, 763876, 767376, 769129, 770884, 772641, 774400, 776161, 779689, 781456, 783225, 784996, 786769, 788544, 792100, 793881, 795664, 797449, 799236, 801025, 804609, 806404, 808201, 810000, 811801, 813604, 817216, 819025, 820836, 822649, 824464, 826281, 829921, 831744, 833569, 835396, 837225, 839056, 842724, 844561, 846400, 848241, 850084, 851929, 855625, 857476, 859329, 861184, 863041, 864900, 868624, 870489, 872356, 874225, 876096, 877969, 881721, 883600, 885481, 887364, 889249, 891136, 894916, 896809, 898704, 900601, 902500, 904401, 908209, 910116, 912025, 913936, 915849, 917764, 921600, 923521, 925444, 927369, 929296, 931225, 935089, 937024, 938961, 940900, 942841, 944784, 948676, 950625, 952576, 954529, 956484, 958441, 962361, 964324, 966289, 968256, 970225, 972196, 976144, 978121, 980100, 982081, 984064, 986049, 990025, 992016, 994009, 996004, 998001]\n"
          ]
        }
      ]
    },
    {
      "cell_type": "code",
      "source": [
        "#Cell 9: Generating all of the prime numbers from 2 to 1000 using the Sieve of Eratosthenes which I suggest you ask ChatGPT for help on.\n",
        "\n",
        "def sieve_of_eratosthenes(limit):\n",
        "    primes = [True] * (limit + 1)\n",
        "    primes[0] = primes[1] = False\n",
        "\n",
        "    p = 2\n",
        "    while p * p <= limit:\n",
        "        if primes[p]:\n",
        "            for i in range(p * p, limit + 1, p):\n",
        "                primes[i] = False\n",
        "        p += 1\n",
        "\n",
        "    prime_numbers = [num for num in range(2, limit + 1) if primes[num]]\n",
        "    return prime_numbers\n",
        "\n",
        "primes_2_to_1000 = sieve_of_eratosthenes(1000)\n",
        "print(primes_2_to_1000)"
      ],
      "metadata": {
        "id": "lzWxVX8Yv-T5",
        "colab": {
          "base_uri": "https://localhost:8080/"
        },
        "outputId": "cb4af689-9bf0-4697-82aa-17fbfab30f22"
      },
      "execution_count": 6,
      "outputs": [
        {
          "output_type": "stream",
          "name": "stdout",
          "text": [
            "[2, 3, 5, 7, 11, 13, 17, 19, 23, 29, 31, 37, 41, 43, 47, 53, 59, 61, 67, 71, 73, 79, 83, 89, 97, 101, 103, 107, 109, 113, 127, 131, 137, 139, 149, 151, 157, 163, 167, 173, 179, 181, 191, 193, 197, 199, 211, 223, 227, 229, 233, 239, 241, 251, 257, 263, 269, 271, 277, 281, 283, 293, 307, 311, 313, 317, 331, 337, 347, 349, 353, 359, 367, 373, 379, 383, 389, 397, 401, 409, 419, 421, 431, 433, 439, 443, 449, 457, 461, 463, 467, 479, 487, 491, 499, 503, 509, 521, 523, 541, 547, 557, 563, 569, 571, 577, 587, 593, 599, 601, 607, 613, 617, 619, 631, 641, 643, 647, 653, 659, 661, 673, 677, 683, 691, 701, 709, 719, 727, 733, 739, 743, 751, 757, 761, 769, 773, 787, 797, 809, 811, 821, 823, 827, 829, 839, 853, 857, 859, 863, 877, 881, 883, 887, 907, 911, 919, 929, 937, 941, 947, 953, 967, 971, 977, 983, 991, 997]\n"
          ]
        }
      ]
    },
    {
      "cell_type": "code",
      "source": [
        "#Cell 10: Create a generator from your function above that you can use to print the first N prime numbers. This should look like:\n",
        "def my_prime_generator(n):\n",
        "  primes = sieve_of_eratosthenes(n)\n",
        "\n",
        "  for x in primes:\n",
        "    yield x\n",
        "\n",
        "\n",
        "\n",
        "for x in my_prime_generator(200):\n",
        "  print(x)"
      ],
      "metadata": {
        "id": "TUMDVTxsv-Ij"
      },
      "execution_count": null,
      "outputs": []
    },
    {
      "cell_type": "code",
      "source": [
        "#Cell 11: Generate 1000 random integers in a list (random.randint(...)) and print their min, max, sum, and average.\n",
        "\n",
        "import random\n",
        "\n",
        "random_integers = [random.randint(1, 100) for _ in range(1000)]\n",
        "\n",
        "min_value = min(random_integers)\n",
        "max_value = max(random_integers)\n",
        "sum_value = sum(random_integers)\n",
        "average_value = sum_value / len(random_integers)\n",
        "\n",
        "print(f\"Minimum: {min_value}\")\n",
        "print(f\"Maximum: {max_value}\")\n",
        "print(f\"Sum: {sum_value}\")\n",
        "print(f\"Average: {average_value}\")"
      ],
      "metadata": {
        "id": "YRLKHrtYv99C"
      },
      "execution_count": null,
      "outputs": []
    },
    {
      "cell_type": "code",
      "source": [
        "#Cell 12: Write a simple function that uses if, elif, and else and show that it works.\n",
        "\n",
        "def check_number(number):\n",
        "    if number > 0:\n",
        "        print(\"The number is positive.\")\n",
        "    elif number < 0:\n",
        "        print(\"The number is negative.\")\n",
        "    else:\n",
        "        print(\"The number is zero.\")\n",
        "\n",
        "check_number(5)\n",
        "check_number(-3)\n",
        "check_number(0)"
      ],
      "metadata": {
        "id": "4wMJuJygv9yf"
      },
      "execution_count": null,
      "outputs": []
    },
    {
      "cell_type": "code",
      "source": [
        "#Cell 13: Show me three things from PEP-8 that surprise you\n",
        "\n",
        "print('the three main things that surprised me in pep 8 was one the fact i can hange how many spaces my tab is equal to, how serious the inclusion of a single unnessary spaces are fowned upon'\n",
        "'\\n and finally the use of trailing commas is gonna take me forever to get used to')\n"
      ],
      "metadata": {
        "id": "LNx-6U45v9oC",
        "colab": {
          "base_uri": "https://localhost:8080/"
        },
        "outputId": "8834ce38-ed22-405a-a8dd-9fec41c66efa"
      },
      "execution_count": 24,
      "outputs": [
        {
          "output_type": "stream",
          "name": "stdout",
          "text": [
            "the three main things that surprised me in pep 8 was one the fact i can hange how many spaces my tab is equal to, how serious the inclusion of a single unnessary spaces are fowned upon\n",
            " and finally the use of trailing commas is gonna take me forever to get used to\n"
          ]
        }
      ]
    },
    {
      "cell_type": "code",
      "source": [
        "#Cell 14: Create a file using %%file testfile.txt in Colab. The file should contain lines like the following:\n",
        "\n",
        "Amy, cat\n",
        "Fred, dog\n",
        "Hunter, dog\n",
        "Peena, parakeet\n",
        "Rover, dog"
      ],
      "metadata": {
        "id": "XSUv3EOcv9d6"
      },
      "execution_count": null,
      "outputs": []
    },
    {
      "cell_type": "code",
      "source": [
        "%%file testfile.txt\n",
        "\n",
        "Amy, cat\n",
        "Fred, dog\n",
        "Hunter, dog\n",
        "Peena, parakeet\n",
        "Rover, dog\n"
      ],
      "metadata": {
        "colab": {
          "base_uri": "https://localhost:8080/"
        },
        "id": "VkOFKcyO17SH",
        "outputId": "558eb052-6dce-4dea-e5e4-c085f15d63d0"
      },
      "execution_count": 31,
      "outputs": [
        {
          "output_type": "stream",
          "name": "stdout",
          "text": [
            "Overwriting testfile.txt\n"
          ]
        }
      ]
    },
    {
      "cell_type": "code",
      "source": [
        "#Cell 15: Read that file in and convert it to a dictionary. Show how you can lookup pet type by using pet name with your dictionary.\n",
        "def file_to_dict(file_name): #i apoligize that this dosen't run thruthfully idrk what arguments this code is missing\n",
        "    pet_dictionary = {}      # i tried the code we did together in class and tried to search it up myslef anf use gpt for help but couldnt debug this\n",
        "    with open(file_name, 'r') as file:\n",
        "        for line in file:\n",
        "            name, pet_type = line.strip().split(', ')\n",
        "            pet_dictionary[name] = pet_type\n",
        "    return pet_dictionary\n",
        "\n",
        "file_content_dict = file_to_dict('testfile.txt')\n",
        "print(file_content_dict)\n",
        "\n"
      ],
      "metadata": {
        "colab": {
          "base_uri": "https://localhost:8080/",
          "height": 366
        },
        "id": "QB5W9Magv9Sv",
        "outputId": "70a136c2-974f-4515-e0c0-4a25abb0087e"
      },
      "execution_count": 30,
      "outputs": [
        {
          "output_type": "error",
          "ename": "ValueError",
          "evalue": "ignored",
          "traceback": [
            "\u001b[0;31m---------------------------------------------------------------------------\u001b[0m",
            "\u001b[0;31mValueError\u001b[0m                                Traceback (most recent call last)",
            "\u001b[0;32m<ipython-input-30-5a4556844e2d>\u001b[0m in \u001b[0;36m<cell line: 10>\u001b[0;34m()\u001b[0m\n\u001b[1;32m      8\u001b[0m     \u001b[0;32mreturn\u001b[0m \u001b[0mpet_dictionary\u001b[0m\u001b[0;34m\u001b[0m\u001b[0;34m\u001b[0m\u001b[0m\n\u001b[1;32m      9\u001b[0m \u001b[0;34m\u001b[0m\u001b[0m\n\u001b[0;32m---> 10\u001b[0;31m \u001b[0mfile_content_dict\u001b[0m \u001b[0;34m=\u001b[0m \u001b[0mfile_to_dict\u001b[0m\u001b[0;34m(\u001b[0m\u001b[0;34m'testfile.txt'\u001b[0m\u001b[0;34m)\u001b[0m\u001b[0;34m\u001b[0m\u001b[0;34m\u001b[0m\u001b[0m\n\u001b[0m\u001b[1;32m     11\u001b[0m \u001b[0mprint\u001b[0m\u001b[0;34m(\u001b[0m\u001b[0mfile_content_dict\u001b[0m\u001b[0;34m)\u001b[0m\u001b[0;34m\u001b[0m\u001b[0;34m\u001b[0m\u001b[0m\n\u001b[1;32m     12\u001b[0m \u001b[0;34m\u001b[0m\u001b[0m\n",
            "\u001b[0;32m<ipython-input-30-5a4556844e2d>\u001b[0m in \u001b[0;36mfile_to_dict\u001b[0;34m(file_name)\u001b[0m\n\u001b[1;32m      4\u001b[0m     \u001b[0;32mwith\u001b[0m \u001b[0mopen\u001b[0m\u001b[0;34m(\u001b[0m\u001b[0mfile_name\u001b[0m\u001b[0;34m,\u001b[0m \u001b[0;34m'r'\u001b[0m\u001b[0;34m)\u001b[0m \u001b[0;32mas\u001b[0m \u001b[0mfile\u001b[0m\u001b[0;34m:\u001b[0m\u001b[0;34m\u001b[0m\u001b[0;34m\u001b[0m\u001b[0m\n\u001b[1;32m      5\u001b[0m         \u001b[0;32mfor\u001b[0m \u001b[0mline\u001b[0m \u001b[0;32min\u001b[0m \u001b[0mfile\u001b[0m\u001b[0;34m:\u001b[0m\u001b[0;34m\u001b[0m\u001b[0;34m\u001b[0m\u001b[0m\n\u001b[0;32m----> 6\u001b[0;31m             \u001b[0mname\u001b[0m\u001b[0;34m,\u001b[0m \u001b[0mpet_type\u001b[0m \u001b[0;34m=\u001b[0m \u001b[0mline\u001b[0m\u001b[0;34m.\u001b[0m\u001b[0mstrip\u001b[0m\u001b[0;34m(\u001b[0m\u001b[0;34m)\u001b[0m\u001b[0;34m.\u001b[0m\u001b[0msplit\u001b[0m\u001b[0;34m(\u001b[0m\u001b[0;34m', '\u001b[0m\u001b[0;34m)\u001b[0m\u001b[0;34m\u001b[0m\u001b[0;34m\u001b[0m\u001b[0m\n\u001b[0m\u001b[1;32m      7\u001b[0m             \u001b[0mpet_dictionary\u001b[0m\u001b[0;34m[\u001b[0m\u001b[0mname\u001b[0m\u001b[0;34m]\u001b[0m \u001b[0;34m=\u001b[0m \u001b[0mpet_type\u001b[0m\u001b[0;34m\u001b[0m\u001b[0;34m\u001b[0m\u001b[0m\n\u001b[1;32m      8\u001b[0m     \u001b[0;32mreturn\u001b[0m \u001b[0mpet_dictionary\u001b[0m\u001b[0;34m\u001b[0m\u001b[0;34m\u001b[0m\u001b[0m\n",
            "\u001b[0;31mValueError\u001b[0m: not enough values to unpack (expected 2, got 1)"
          ]
        }
      ]
    },
    {
      "cell_type": "code",
      "source": [
        "#Cell 16: Generate a list of all the unique pet types in the dictionary. Use a set to make this happen.\n",
        "print(dict1.values())\n",
        "\n",
        "pet_types = set(dict1.values())\n",
        "print(pet_types)"
      ],
      "metadata": {
        "id": "yM70EKYIv9IQ"
      },
      "execution_count": null,
      "outputs": []
    },
    {
      "cell_type": "code",
      "source": [
        "#Cell 17: Use a while loop to print the numbers from 80 down to 16 by 8. Do not use for or range.\n",
        "n = 80\n",
        "\n",
        "while n >=16:\n",
        "  print(n)\n",
        "  n -=8"
      ],
      "metadata": {
        "colab": {
          "base_uri": "https://localhost:8080/"
        },
        "id": "KjaXs3Guv86s",
        "outputId": "88b1f61a-18dc-449e-faf2-4adc7e6613e0"
      },
      "execution_count": null,
      "outputs": [
        {
          "output_type": "stream",
          "name": "stdout",
          "text": [
            "80\n",
            "72\n",
            "64\n",
            "56\n",
            "48\n",
            "40\n",
            "32\n",
            "24\n",
            "16\n"
          ]
        }
      ]
    },
    {
      "cell_type": "code",
      "source": [
        "#Cell 18: Write a function that takes three numbers and returns their min, max, and sum as a tuple.\n",
        "def f1(n1,n2,n3):\n",
        "  max_n = max(n1,n2,n3)\n",
        "  min_n = min(n1,n2,n3)\n",
        "  sum_n = sum([n1,n2,n3])\n",
        "\n",
        "  return min_n, max_n, sum_n\n",
        "\n",
        "print(f1(13,26,39))\n"
      ],
      "metadata": {
        "colab": {
          "base_uri": "https://localhost:8080/"
        },
        "id": "p1XF0xLuv8G8",
        "outputId": "c458a7ca-2e24-4a45-b254-92742306ed1b"
      },
      "execution_count": null,
      "outputs": [
        {
          "output_type": "stream",
          "name": "stdout",
          "text": [
            "(13, 39, 78)\n"
          ]
        }
      ]
    },
    {
      "cell_type": "code",
      "source": [
        "#Cell 19: Write a function that takes any number of numbers and returns their min, max, and sum as a tuple.\n",
        "\n",
        "def calculate_min_max_sum(*numbers):\n",
        "    if not numbers:\n",
        "        return None\n",
        "\n",
        "    min_val = min(numbers)\n",
        "    max_val = max(numbers)\n",
        "    sum_val = sum(numbers)\n",
        "\n",
        "    return min_val, max_val, sum_val\n",
        "\n",
        "result = calculate_min_max_sum(5, 2, 9, 1, 7)\n",
        "print(result)"
      ],
      "metadata": {
        "id": "bjDK2xYtv76K",
        "colab": {
          "base_uri": "https://localhost:8080/"
        },
        "outputId": "9a7c4cc3-35cc-4dab-aeeb-a3f8c797c4e6"
      },
      "execution_count": 14,
      "outputs": [
        {
          "output_type": "stream",
          "name": "stdout",
          "text": [
            "(1, 9, 24)\n"
          ]
        }
      ]
    },
    {
      "cell_type": "code",
      "source": [
        "#Cell 20: Create a decorator called traceroo and use it to print messages showing how your function above executes.\n",
        "def traceroo(func):\n",
        "  def newfunc(*args, **kwargs):\n",
        "    print(f'{func.__name__} {args} {kwargs}')\n",
        "    return func(*args, **kwargs)\n",
        "  return newfunc\n",
        "\n",
        "f1d = traceroo(f1)\n",
        "print(f1(3,2,1))\n",
        "print(f1d(3,2,1))"
      ],
      "metadata": {
        "colab": {
          "base_uri": "https://localhost:8080/"
        },
        "id": "3f8A-ZS6v7tk",
        "outputId": "69f7d362-bc78-449c-e484-7b808d3d9262"
      },
      "execution_count": null,
      "outputs": [
        {
          "output_type": "stream",
          "name": "stdout",
          "text": [
            "(1, 3, 6)\n",
            "f1 (3, 2, 1) {}\n",
            "(1, 3, 6)\n"
          ]
        }
      ]
    },
    {
      "cell_type": "code",
      "source": [
        "#Cell 21: Create a class that uses __init__, __repr__, __str__, and __add__. Demonstrate that all of the methods work.\n",
        "\n",
        "class ahhh:\n",
        "    def __init__(self, value):\n",
        "        self.value = value\n",
        "\n",
        "    def __repr__(self):\n",
        "        return f\"MyClass({self.value})\"\n",
        "\n",
        "    def __str__(self):\n",
        "        return f\"Value: {self.value}\"\n",
        "\n",
        "    def __add__(self, other):\n",
        "        if isinstance(other, ahhh):\n",
        "            return ahhh(self.value + other.value)\n",
        "        elif isinstance(other, (int, float)):\n",
        "            return ahhh(self.value + other)\n",
        "        else:\n",
        "            raise ValueError(\"Unsupported type for addition\")\n",
        "\n",
        "obj1 = ahhh(5)\n",
        "obj2 = ahhh(10)\n",
        "\n",
        "print(repr(obj1))\n",
        "\n",
        "print(str(obj2))\n",
        "\n",
        "result1 = obj1 + obj2\n",
        "print(repr(result1))\n",
        "\n",
        "result2 = obj1 + 7\n",
        "print(repr(result2))"
      ],
      "metadata": {
        "id": "UdQfUHA3v7dq",
        "colab": {
          "base_uri": "https://localhost:8080/"
        },
        "outputId": "c105c19c-ce29-44b4-cbc6-fe69959e8d45"
      },
      "execution_count": 15,
      "outputs": [
        {
          "output_type": "stream",
          "name": "stdout",
          "text": [
            "MyClass(5)\n",
            "Value: 10\n",
            "MyClass(15)\n",
            "MyClass(12)\n"
          ]
        }
      ]
    },
    {
      "cell_type": "code",
      "source": [
        "#Cell 22: Is your birth date included in the digits of pi? Where? Feel free to use the code from Chapter 10.\n",
        "\n",
        "import math\n",
        "\n",
        "birthdate = \"06112004\"\n",
        "\n",
        "pi_str = str(math.pi)\n",
        "\n",
        "index = pi_str.find(birthdate)\n",
        "\n",
        "if index != -1:\n",
        "    print(f\"Found it {index} in pi ig .\")\n",
        "else:\n",
        "    print(\"sucks to be you, can't find it\")\n"
      ],
      "metadata": {
        "id": "a93yFzPPv7DJ",
        "colab": {
          "base_uri": "https://localhost:8080/"
        },
        "outputId": "0eb2bb2b-cf2f-463c-de97-f314c540e045"
      },
      "execution_count": 17,
      "outputs": [
        {
          "output_type": "stream",
          "name": "stdout",
          "text": [
            "sucks to be you, can't find it\n"
          ]
        }
      ]
    },
    {
      "cell_type": "code",
      "source": [
        "%%file final_functions.py\n",
        "\n",
        "def calculate_min_max_sum(*numbers):\n",
        "    if not numbers:\n",
        "        return None  # Return None if no numbers are provided\n",
        "\n",
        "    min_val = min(numbers)\n",
        "    max_val = max(numbers)\n",
        "    sum_val = sum(numbers)\n",
        "\n",
        "    return min_val, max_val, sum_val\n",
        "\n",
        "def file_to_dict(file_name):\n",
        "    pet_dictionary = {}\n",
        "    with open(file_name, 'r') as file:\n",
        "        for line in file:\n",
        "            name, pet_type = line.strip().split(', ')\n",
        "            pet_dictionary[name] = pet_type\n",
        "    return pet_dictionary\n",
        "\n",
        "def check_number(number):\n",
        "    if number > 0:\n",
        "        return \"The number is positive.\"\n",
        "    elif number < 0:\n",
        "        return \"The number is negative.\"\n",
        "    else:\n",
        "        return \"The number is zero.\""
      ],
      "metadata": {
        "colab": {
          "base_uri": "https://localhost:8080/"
        },
        "id": "-pD7OT88DkXb",
        "outputId": "ea1e99c2-2357-429d-95b5-f13908005995"
      },
      "execution_count": 26,
      "outputs": [
        {
          "output_type": "stream",
          "name": "stdout",
          "text": [
            "Writing final_functions.py\n"
          ]
        }
      ]
    },
    {
      "cell_type": "code",
      "source": [
        "from final_functions import calculate_min_max_sum, file_to_dict, check_number\n",
        "\n",
        "result = calculate_min_max_sum(5, 2, 9, 1, 7)\n",
        "print(\"calculate_min_max_sum result:\", result)\n",
        "\n",
        "#file_content_dict = file_to_dict('testfile.txt')  #same issue i had previously\n",
        "#print(\"file_to_dict result:\", file_content_dict)\n",
        "\n",
        "number_check_result = check_number(-5)\n",
        "print(\"check_number result:\", number_check_result)"
      ],
      "metadata": {
        "colab": {
          "base_uri": "https://localhost:8080/"
        },
        "id": "4QsyA6hJEarM",
        "outputId": "7c5d967c-155f-4c80-a3f8-d705d96d9be0"
      },
      "execution_count": 34,
      "outputs": [
        {
          "output_type": "stream",
          "name": "stdout",
          "text": [
            "calculate_min_max_sum result: (1, 9, 24)\n",
            "check_number result: The number is negative.\n"
          ]
        }
      ]
    }
  ]
}