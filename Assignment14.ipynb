{
  "nbformat": 4,
  "nbformat_minor": 0,
  "metadata": {
    "colab": {
      "provenance": [],
      "authorship_tag": "ABX9TyMAlOPbtIAm9q/PxZRCEsD7",
      "include_colab_link": true
    },
    "kernelspec": {
      "name": "python3",
      "display_name": "Python 3"
    },
    "language_info": {
      "name": "python"
    }
  },
  "cells": [
    {
      "cell_type": "markdown",
      "metadata": {
        "id": "view-in-github",
        "colab_type": "text"
      },
      "source": [
        "<a href=\"https://colab.research.google.com/github/ManuelT004/CSC221_Mteja004/blob/main/Assignment14.ipynb\" target=\"_parent\"><img src=\"https://colab.research.google.com/assets/colab-badge.svg\" alt=\"Open In Colab\"/></a>"
      ]
    },
    {
      "cell_type": "code",
      "execution_count": 4,
      "metadata": {
        "colab": {
          "base_uri": "https://localhost:8080/"
        },
        "id": "vtJ4REtJY6xM",
        "outputId": "3433296b-3feb-485e-9bbc-72df8e28aa81"
      },
      "outputs": [
        {
          "output_type": "stream",
          "name": "stdout",
          "text": [
            "Enter number op number (e.g., 13 / 5): 13 * 5\n",
            "13.0 * 5.0 = 65.00\n"
          ]
        }
      ],
      "source": [
        "def simple_calculator():\n",
        "    try:\n",
        "        user_input = input(\"Enter number op number (e.g., 13 / 5): \")\n",
        "        arguments = user_input.split(' ')\n",
        "\n",
        "        if len(arguments) != 3:\n",
        "            raise ValueError(\"Please enter a valid input in the format: number op number\")\n",
        "\n",
        "        num1 = float(arguments[0])\n",
        "        op = arguments[1]\n",
        "        num2 = float(arguments[2])\n",
        "\n",
        "        if op == '+':\n",
        "            result = num1 + num2\n",
        "        elif op == '-':\n",
        "            result = num1 - num2\n",
        "        elif op == '*':\n",
        "            result = num1 * num2\n",
        "        elif op == '/':\n",
        "            if num2 == 0:\n",
        "                raise ZeroDivisionError(\"Division by zero is not allowed\")\n",
        "            result = num1 / num2\n",
        "        else:\n",
        "            raise ValueError(\"Invalid operator. Use '+', '-', '*', or '/'\")\n",
        "\n",
        "        print(f\"{num1} {op} {num2} = {result:.2f}\")\n",
        "\n",
        "    except ValueError as ve:\n",
        "        print(f\"Value Error: {ve}\")\n",
        "    except ZeroDivisionError as zde:\n",
        "        print(f\"Zero Division Error: {zde}\")\n",
        "    except Exception as e:\n",
        "        print(f\"An error occurred: {e}\")\n",
        "\n",
        "simple_calculator()"
      ]
    },
    {
      "cell_type": "code",
      "source": [
        "#again sorry was unable to get the program working in assignment 13 plz if i loose points on the last assignment, spare me here"
      ],
      "metadata": {
        "id": "mSusPDUAZmNN"
      },
      "execution_count": null,
      "outputs": []
    }
  ]
}