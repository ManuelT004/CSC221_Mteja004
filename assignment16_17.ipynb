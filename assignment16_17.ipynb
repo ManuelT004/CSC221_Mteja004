{
  "nbformat": 4,
  "nbformat_minor": 0,
  "metadata": {
    "colab": {
      "provenance": [],
      "authorship_tag": "ABX9TyPoXDo+HnowoxCcevxG98z6",
      "include_colab_link": true
    },
    "kernelspec": {
      "name": "python3",
      "display_name": "Python 3"
    },
    "language_info": {
      "name": "python"
    }
  },
  "cells": [
    {
      "cell_type": "markdown",
      "metadata": {
        "id": "view-in-github",
        "colab_type": "text"
      },
      "source": [
        "<a href=\"https://colab.research.google.com/github/ManuelT004/CSC221_Mteja004/blob/main/assignment16_17.ipynb\" target=\"_parent\"><img src=\"https://colab.research.google.com/assets/colab-badge.svg\" alt=\"Open In Colab\"/></a>"
      ]
    },
    {
      "cell_type": "code",
      "execution_count": 1,
      "metadata": {
        "colab": {
          "base_uri": "https://localhost:8080/"
        },
        "id": "RLbvr0WJeWuW",
        "outputId": "737f9cdd-fdf0-477a-f0a4-5a798bd87e00"
      },
      "outputs": [
        {
          "output_type": "stream",
          "name": "stdout",
          "text": [
            "hello world\n"
          ]
        }
      ],
      "source": [
        "#1.1\n",
        "#runnign python is pretty easy\n",
        "print('hello world')"
      ]
    },
    {
      "cell_type": "code",
      "source": [
        "# examples 1.1 to 1.14 are the basics we've been covering in class and unforunately for me what ive been doing for days so ima bring up anything new to me"
      ],
      "metadata": {
        "id": "nKS0UgitjtGo"
      },
      "execution_count": null,
      "outputs": []
    },
    {
      "cell_type": "code",
      "source": [
        "#1.15\n",
        "#although very simple, i dont remeber learing Systemexit()\n",
        "raise SystemExit\n",
        "#ah it dosen't work in colab, makes perfect sense, but in a different text editor im sure i can use this to clean up some code and make it feel all around more complete"
      ],
      "metadata": {
        "colab": {
          "base_uri": "https://localhost:8080/",
          "height": 178
        },
        "id": "pS44x7JPkQlZ",
        "outputId": "bd9941a0-4907-481b-f119-71bf2b01df7c"
      },
      "execution_count": 2,
      "outputs": [
        {
          "output_type": "error",
          "ename": "SystemExit",
          "evalue": "ignored",
          "traceback": [
            "An exception has occurred, use %tb to see the full traceback.\n",
            "\u001b[0;31mSystemExit\u001b[0m\n"
          ]
        },
        {
          "output_type": "stream",
          "name": "stderr",
          "text": [
            "/usr/local/lib/python3.10/dist-packages/IPython/core/interactiveshell.py:3561: UserWarning: To exit: use 'exit', 'quit', or Ctrl-D.\n",
            "  warn(\"To exit: use 'exit', 'quit', or Ctrl-D.\", stacklevel=1)\n"
          ]
        }
      ]
    },
    {
      "cell_type": "code",
      "source": [
        "#1.16 to 1.22\n",
        "\n",
        "#nothing new, but realizing i must become more accustumed to programming vocab\n",
        "\n",
        "#module being files and such\n",
        "\n",
        "#its also becoming more and more apparent, that i need to become better at organization"
      ],
      "metadata": {
        "id": "RmVvXmRSkxZ6"
      },
      "execution_count": null,
      "outputs": []
    }
  ]
}