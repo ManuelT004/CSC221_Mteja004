{
  "nbformat": 4,
  "nbformat_minor": 0,
  "metadata": {
    "colab": {
      "provenance": [],
      "authorship_tag": "ABX9TyNRXLXFpQ2in595pk4kwJMg",
      "include_colab_link": true
    },
    "kernelspec": {
      "name": "python3",
      "display_name": "Python 3"
    },
    "language_info": {
      "name": "python"
    }
  },
  "cells": [
    {
      "cell_type": "markdown",
      "metadata": {
        "id": "view-in-github",
        "colab_type": "text"
      },
      "source": [
        "<a href=\"https://colab.research.google.com/github/ManuelT004/CSC221_Mteja004/blob/main/Assignment6.ipynb\" target=\"_parent\"><img src=\"https://colab.research.google.com/assets/colab-badge.svg\" alt=\"Open In Colab\"/></a>"
      ]
    },
    {
      "cell_type": "code",
      "execution_count": 1,
      "metadata": {
        "colab": {
          "base_uri": "https://localhost:8080/"
        },
        "id": "ZJKvHknunON1",
        "outputId": "db6a8188-763f-454b-90ea-b8bf7d7cd230"
      },
      "outputs": [
        {
          "output_type": "stream",
          "name": "stdout",
          "text": [
            "Audi\n",
            "BMW\n",
            "Suburu\n",
            "Toyota\n"
          ]
        }
      ],
      "source": [
        "cars = ['audi', 'bmw', 'suburu', 'toyota']\n",
        "\n",
        "for car in cars:\n",
        "  if car == 'bmw':\n",
        "    print(car.upper())\n",
        "\n",
        "  else:\n",
        "    print(car.title())"
      ]
    },
    {
      "cell_type": "code",
      "source": [
        "requested_toppings = 'mushrooms'\n",
        "\n",
        "if requested_toppings != 'anchovies':\n",
        "  print('hold the anchovies')\n",
        "\n"
      ],
      "metadata": {
        "colab": {
          "base_uri": "https://localhost:8080/"
        },
        "id": "_JdrNAhepfGk",
        "outputId": "8c5fb431-2494-4df5-840b-0b80f474bc6c"
      },
      "execution_count": 2,
      "outputs": [
        {
          "output_type": "stream",
          "name": "stdout",
          "text": [
            "hold the anchovies\n"
          ]
        }
      ]
    },
    {
      "cell_type": "code",
      "source": [
        "#this is how to check if something is on a list\n",
        "\n",
        "'bmw' in cars"
      ],
      "metadata": {
        "colab": {
          "base_uri": "https://localhost:8080/"
        },
        "id": "K3seVLiSqCPq",
        "outputId": "1e9740b2-5f2b-4f04-d858-9d6d958f9775"
      },
      "execution_count": 6,
      "outputs": [
        {
          "output_type": "execute_result",
          "data": {
            "text/plain": [
              "True"
            ]
          },
          "metadata": {},
          "execution_count": 6
        }
      ]
    },
    {
      "cell_type": "code",
      "source": [
        "#tiy 5-1\n",
        "\n",
        "marbles = ['spiral', 'leaves', 'bumblebee', 'solids', 'rainbow', 'multi_colored']\n",
        "\n",
        "'spiral' in marbles # i belive this is gonna be true\n",
        "\n",
        "'hornet' in marbles # this is probably gonna be false\n",
        "\n",
        "'bumblebee' == marbles #honestly idk if this is gonna work but we're here to find out and i belive in it\n",
        "\n",
        "'pizza' == marbles # this one im sure isn't gonna work\n",
        "\n",
        "'rainbow' in marbles # this should be true as well\n",
        "\n",
        "'agaga' in marbles # this should crash\n",
        "\n",
        "for marble in marbles: #this is just cause im bored of doing simple statements\n",
        "  if marble == 'bumblebee':\n",
        "    print(f'save the {marble.title()}')\n",
        "\n",
        "'solid' in marbles #this one shouldn't work, cause i have solids with an s\n",
        "\n",
        "'multi_colored' == marbles # this should do just fine\n",
        "\n",
        "'true & false' in marbles #this isnt gonna work at all\n"
      ],
      "metadata": {
        "colab": {
          "base_uri": "https://localhost:8080/"
        },
        "id": "AvW3S5nZqke2",
        "outputId": "b322c857-e926-4052-8c2b-74886152b917"
      },
      "execution_count": 11,
      "outputs": [
        {
          "output_type": "stream",
          "name": "stdout",
          "text": [
            "save the Bumblebee\n"
          ]
        },
        {
          "output_type": "execute_result",
          "data": {
            "text/plain": [
              "False"
            ]
          },
          "metadata": {},
          "execution_count": 11
        }
      ]
    },
    {
      "cell_type": "code",
      "source": [
        "# the start of tiy 5-2\n",
        "\n",
        "mine = 'this is my string'\n",
        "\n",
        "if mine == 'this is my string':\n",
        "  print('true')\n",
        "elif:\n",
        "  print('false')\n",
        "\n",
        "if mine == 'this is not my string':\n",
        "  print('true')\n",
        "elif:\n",
        "  print('false')\n",
        "\n",
        "if mine.lower() == 'this is my string':\n",
        "  print('true')\n",
        "elif:\n",
        "  print('false')\n",
        "\n",
        "if mine.lower() == 'This is my string':\n",
        "  print('true')\n",
        "elif:\n",
        "  print('false')\n",
        "\n"
      ],
      "metadata": {
        "id": "Ugqg3Mzbt_d1"
      },
      "execution_count": null,
      "outputs": []
    },
    {
      "cell_type": "code",
      "source": [
        "num = 13\n",
        "\n",
        "num > 7\n",
        "num > 26\n",
        "\n",
        "num < 16\n",
        "num < 12\n",
        "\n",
        "num >= 13\n",
        "num >= 14\n",
        "\n",
        "num <= 13\n",
        "num <= 3\n"
      ],
      "metadata": {
        "colab": {
          "base_uri": "https://localhost:8080/"
        },
        "id": "RyORzTlFxXAE",
        "outputId": "d93499bd-7f23-4540-a32d-26413c87b93e"
      },
      "execution_count": 7,
      "outputs": [
        {
          "output_type": "execute_result",
          "data": {
            "text/plain": [
              "False"
            ]
          },
          "metadata": {},
          "execution_count": 7
        }
      ]
    },
    {
      "cell_type": "code",
      "source": [
        "num > 12 and num < 18"
      ],
      "metadata": {
        "colab": {
          "base_uri": "https://localhost:8080/"
        },
        "id": "N1RFc6xUxb3z",
        "outputId": "944f74a0-7de6-496a-9e55-6dcd882d8bc2"
      },
      "execution_count": 8,
      "outputs": [
        {
          "output_type": "execute_result",
          "data": {
            "text/plain": [
              "True"
            ]
          },
          "metadata": {},
          "execution_count": 8
        }
      ]
    },
    {
      "cell_type": "code",
      "source": [
        "num >= 13 or num > 39"
      ],
      "metadata": {
        "colab": {
          "base_uri": "https://localhost:8080/"
        },
        "id": "S9tQO8DRxiTY",
        "outputId": "c6ad2108-c513-4265-e3b4-a9751109ac3f"
      },
      "execution_count": 9,
      "outputs": [
        {
          "output_type": "execute_result",
          "data": {
            "text/plain": [
              "True"
            ]
          },
          "metadata": {},
          "execution_count": 9
        }
      ]
    },
    {
      "cell_type": "code",
      "source": [
        "'bumblebee' in marbles"
      ],
      "metadata": {
        "colab": {
          "base_uri": "https://localhost:8080/"
        },
        "id": "TAyt8MlMxu-d",
        "outputId": "2b17a6b5-734c-4163-a86e-0aab542c0fe2"
      },
      "execution_count": 12,
      "outputs": [
        {
          "output_type": "execute_result",
          "data": {
            "text/plain": [
              "True"
            ]
          },
          "metadata": {},
          "execution_count": 12
        }
      ]
    },
    {
      "cell_type": "code",
      "source": [
        "'death' in marbles"
      ],
      "metadata": {
        "colab": {
          "base_uri": "https://localhost:8080/"
        },
        "id": "7Tee2pjux6kW",
        "outputId": "8a92fa5d-dcbd-43d4-e66a-820bc6ea1937"
      },
      "execution_count": 13,
      "outputs": [
        {
          "output_type": "execute_result",
          "data": {
            "text/plain": [
              "False"
            ]
          },
          "metadata": {},
          "execution_count": 13
        }
      ]
    },
    {
      "cell_type": "code",
      "source": [
        "# the end of tiy 5-2"
      ],
      "metadata": {
        "id": "rTjCl5FLyK79"
      },
      "execution_count": null,
      "outputs": []
    },
    {
      "cell_type": "code",
      "source": [
        "#tiy 5-3\n",
        "\n",
        "alien_color = 'red'\n",
        "\n",
        "if alien_color == 'green':\n",
        "  print('You gota green one, + 5 points')"
      ],
      "metadata": {
        "id": "Jjg6iIgJyN5F"
      },
      "execution_count": 16,
      "outputs": []
    },
    {
      "cell_type": "code",
      "source": [
        "alien_color = 'red'\n",
        "\n",
        "if alien_color == 'red':\n",
        "  print('You got a red one, +100 points')"
      ],
      "metadata": {
        "colab": {
          "base_uri": "https://localhost:8080/"
        },
        "id": "oqL8cnAKztJK",
        "outputId": "ae174e6b-8db9-4c1d-f50d-bebb026f25d9"
      },
      "execution_count": 15,
      "outputs": [
        {
          "output_type": "stream",
          "name": "stdout",
          "text": [
            "You got a red one, +100 points\n"
          ]
        }
      ]
    },
    {
      "cell_type": "code",
      "source": [
        "#tiy 5-4\n",
        "\n",
        "if alien_color == 'red':\n",
        "  print('You got a red one, + 5 points')\n",
        "elif alien_color == 'green' or 'yellow':\n",
        "  print('you got an alien, + 10 points')"
      ],
      "metadata": {
        "colab": {
          "base_uri": "https://localhost:8080/"
        },
        "id": "jMduycp40cNL",
        "outputId": "dbfa790e-d42d-4c78-d4b3-1faac6c059e9"
      },
      "execution_count": 19,
      "outputs": [
        {
          "output_type": "stream",
          "name": "stdout",
          "text": [
            "You got a red one, + 5 points\n"
          ]
        }
      ]
    },
    {
      "cell_type": "code",
      "source": [
        "if alien_color == 'green':\n",
        "  print('You got a red one, + 5 points')\n",
        "elif alien_color == 'red' or 'yellow':\n",
        "  print('you got an alien, + 10 points')"
      ],
      "metadata": {
        "colab": {
          "base_uri": "https://localhost:8080/"
        },
        "id": "HhDDL0Gz1QTY",
        "outputId": "d7743172-1832-4507-8850-3626762f058e"
      },
      "execution_count": 20,
      "outputs": [
        {
          "output_type": "stream",
          "name": "stdout",
          "text": [
            "you got an alien, + 10 points\n"
          ]
        }
      ]
    },
    {
      "cell_type": "code",
      "source": [
        "#tiy 5-5\n",
        "\n",
        "if alien_color == 'red':\n",
        "  print('you earned 5 points')\n",
        "elif alien_color == 'yellow':\n",
        "  print('you earned 10 points')\n",
        "elif alien_color == 'green':\n",
        "  print('you earned 15 points')"
      ],
      "metadata": {
        "colab": {
          "base_uri": "https://localhost:8080/"
        },
        "id": "HESO2Qyo1Uzy",
        "outputId": "42891b26-c342-444c-e4fc-a71b75cab21d"
      },
      "execution_count": 21,
      "outputs": [
        {
          "output_type": "stream",
          "name": "stdout",
          "text": [
            "you earned 5 points\n"
          ]
        }
      ]
    },
    {
      "cell_type": "code",
      "source": [
        "alien_color = 'yellow'\n",
        "\n",
        "if alien_color == 'red':\n",
        "  print('you earned 5 points')\n",
        "elif alien_color == 'yellow':\n",
        "  print('you earned 10 points')\n",
        "elif alien_color == 'green':\n",
        "  print('you earned 15 points')"
      ],
      "metadata": {
        "colab": {
          "base_uri": "https://localhost:8080/"
        },
        "id": "GU6MpFYn13Zc",
        "outputId": "90b7ab79-bdbe-4173-e380-eafe4a02cfab"
      },
      "execution_count": 22,
      "outputs": [
        {
          "output_type": "stream",
          "name": "stdout",
          "text": [
            "you earned 10 points\n"
          ]
        }
      ]
    },
    {
      "cell_type": "code",
      "source": [
        "alien_color = 'green'\n",
        "\n",
        "if alien_color == 'red':\n",
        "  print('you earned 5 points')\n",
        "elif alien_color == 'yellow':\n",
        "  print('you earned 10 points')\n",
        "elif alien_color == 'green':\n",
        "  print('you earned 15 points')"
      ],
      "metadata": {
        "colab": {
          "base_uri": "https://localhost:8080/"
        },
        "id": "oQlMFWT11-k2",
        "outputId": "140e1533-f1b8-4d3e-d56e-7c2925a76a2d"
      },
      "execution_count": 23,
      "outputs": [
        {
          "output_type": "stream",
          "name": "stdout",
          "text": [
            "you earned 15 points\n"
          ]
        }
      ]
    },
    {
      "cell_type": "code",
      "source": [
        "#tiy 5-6\n",
        "\n",
        "age = 19\n",
        "\n",
        "if age < 2:\n",
        "  print('this person is a baby')\n",
        "\n",
        "elif age >= 2 and age < 4:\n",
        "  print('this person is a toddler')\n",
        "\n",
        "elif age >= 4 and age < 13:\n",
        "  print('this person is a kid')\n",
        "\n",
        "elif age >= 13 and age < 20:\n",
        "  print('this person is a teenager')\n",
        "\n",
        "elif age >= 20 and age < 65:\n",
        "  print('this person is an adult')\n",
        "\n",
        "elif age >= 65:\n",
        "  print('this person is a elder')\n"
      ],
      "metadata": {
        "colab": {
          "base_uri": "https://localhost:8080/"
        },
        "id": "HRa4x5EZ2EVa",
        "outputId": "908a6312-eb7e-4fd4-a95c-549580348278"
      },
      "execution_count": 25,
      "outputs": [
        {
          "output_type": "stream",
          "name": "stdout",
          "text": [
            "this person is a teenager\n"
          ]
        }
      ]
    },
    {
      "cell_type": "code",
      "source": [
        "#tiy 5-7\n",
        "\n",
        "favorite_foods = ['apples', 'canepas', 'pineapple' ]\n",
        "\n",
        "if 'apples' in favorite_foods:\n",
        "  print('you rlly like apple')\n",
        "if 'canepas' in favorite_foods:\n",
        "  print('you rlly like canepas')\n",
        "if 'pineapple' in favorite_foods:\n",
        "  print('you rlly like pineapple')\n",
        "if favorite_foods != 'bananas':\n",
        "  print('ig you dont like bananas')\n",
        "if favorite_foods != 'mangos':\n",
        "  print('rlly, u dont like mangos?')\n"
      ],
      "metadata": {
        "colab": {
          "base_uri": "https://localhost:8080/"
        },
        "id": "hQJ34Eco3zXe",
        "outputId": "38858b71-3d87-4cfd-ef02-996f16f85d3c"
      },
      "execution_count": 27,
      "outputs": [
        {
          "output_type": "stream",
          "name": "stdout",
          "text": [
            "you rlly like apple\n",
            "you rlly like canepas\n",
            "you rlly like pineapple\n",
            "ig you dont like bananas\n",
            "rlly, u dont like mangos?\n"
          ]
        }
      ]
    },
    {
      "cell_type": "code",
      "source": [
        "#tiy 5-8\n",
        "username = ['manny', 'micheal', 'matthew', 'carlos', 'jessica', 'admin']\n",
        "\n",
        "for name in username:\n",
        "  if name == 'admin':\n",
        "    print('welcome back Admin would you like to see the latest reports')\n",
        "  else:\n",
        "    print(f'welcome back {name}, what would you like to do today')"
      ],
      "metadata": {
        "colab": {
          "base_uri": "https://localhost:8080/"
        },
        "id": "WTnXE-Io690c",
        "outputId": "5ce8982b-e7fa-42dd-c5b7-840ac6ff687a"
      },
      "execution_count": 28,
      "outputs": [
        {
          "output_type": "stream",
          "name": "stdout",
          "text": [
            "welcome back manny, what would you like to do today\n",
            "welcome back micheal, what would you like to do today\n",
            "welcome back matthew, what would you like to do today\n",
            "welcome back carlos, what would you like to do today\n",
            "welcome back jessica, what would you like to do today\n",
            "welcome back Admin would you like to see the latest reports\n"
          ]
        }
      ]
    },
    {
      "cell_type": "code",
      "source": [
        "#tiy 5-9\n",
        "\n",
        "username = []\n",
        "if username:\n",
        "  for name in username:\n",
        "    if name == 'admin':\n",
        "      print('welcome back Admin would you like to see the latest reports')\n",
        "    else:\n",
        "      print(f'welcome back {name}, what would you like to do today')\n",
        "\n",
        "else:\n",
        "    print('we need to find some users')"
      ],
      "metadata": {
        "colab": {
          "base_uri": "https://localhost:8080/"
        },
        "id": "5uDypCNo8S72",
        "outputId": "e2c19cd9-0994-4d1e-9b32-e855d7e6a0f6"
      },
      "execution_count": 34,
      "outputs": [
        {
          "output_type": "stream",
          "name": "stdout",
          "text": [
            "we need to find some users\n"
          ]
        }
      ]
    },
    {
      "cell_type": "code",
      "source": [
        "#tiy 5-10\n",
        "username = ['manny', 'micheal', 'matthew', 'carlos', 'jessica', 'admin']\n",
        "new_user = ['julio', 'maiah', 'kay', 'amy', 'manny']\n",
        "username_lower = username\n",
        "\n",
        "for user in new_user:\n",
        "  if user in username:\n",
        "    print('you will need to come up with a new username, this one is taken')\n",
        "\n",
        "  else:\n",
        "    print('welcome to our website')"
      ],
      "metadata": {
        "colab": {
          "base_uri": "https://localhost:8080/"
        },
        "id": "KMWsq-c69ojl",
        "outputId": "c465beca-15e1-484e-ff2d-95c8389e3263"
      },
      "execution_count": 40,
      "outputs": [
        {
          "output_type": "stream",
          "name": "stdout",
          "text": [
            "welcome to our website\n",
            "welcome to our website\n",
            "welcome to our website\n",
            "welcome to our website\n",
            "you will need to come up with a new username, this one is taken\n"
          ]
        }
      ]
    },
    {
      "cell_type": "code",
      "source": [
        "#tiy 5-11\n",
        "\n",
        "nums = [1,2,3,4,5,6,7,8,9]\n",
        "\n",
        "for num in nums:\n",
        "  if num == 1:\n",
        "    print('1 st')\n",
        "  elif num == 2:\n",
        "    print('2 nd')\n",
        "  elif num == 3:\n",
        "    print('3 rd')\n",
        "  else:\n",
        "    print(f'{num} th')\n"
      ],
      "metadata": {
        "colab": {
          "base_uri": "https://localhost:8080/"
        },
        "id": "y6TXjEgV_2CI",
        "outputId": "205e53d6-a6dc-467e-babe-a931e69d0012"
      },
      "execution_count": 43,
      "outputs": [
        {
          "output_type": "stream",
          "name": "stdout",
          "text": [
            "1 st\n",
            "2 nd\n",
            "3 rd\n",
            "4 th\n",
            "5 th\n",
            "6 th\n",
            "7 th\n",
            "8 th\n",
            "9 th\n"
          ]
        }
      ]
    },
    {
      "cell_type": "code",
      "source": [
        "#tiy 5-12\n",
        "#reviewed"
      ],
      "metadata": {
        "id": "H4mO9NRmAyeh"
      },
      "execution_count": null,
      "outputs": []
    },
    {
      "cell_type": "code",
      "source": [
        "#tiy 13\n",
        "# so i have problems getting up in the morning so ima code a program that raises the bolume of an imahginary alarm based on the time\n",
        "\n",
        "\n",
        "def volume(n):\n",
        "  time = n\n",
        "\n",
        "  if time < 7:\n",
        "    alarm_vol = 25\n",
        "  elif time >= 7 and time < 8:\n",
        "    alarm_vol = 50\n",
        "  elif time >= 8 and time < 9:\n",
        "    alarm_vol = 75\n",
        "  elif time >= 9:\n",
        "    alarm_vol = 100\n",
        "  return alarm_vol\n",
        "\n",
        "print(volume(8))\n",
        "\n"
      ],
      "metadata": {
        "colab": {
          "base_uri": "https://localhost:8080/"
        },
        "id": "OVYCFBrIBEZ1",
        "outputId": "6d608d1d-23dd-4158-ec8f-f252e08387bf"
      },
      "execution_count": 56,
      "outputs": [
        {
          "output_type": "stream",
          "name": "stdout",
          "text": [
            "75\n"
          ]
        }
      ]
    }
  ]
}