{
  "nbformat": 4,
  "nbformat_minor": 0,
  "metadata": {
    "colab": {
      "provenance": [],
      "authorship_tag": "ABX9TyMxOrNIPMEz3gXv1cTBVZPG",
      "include_colab_link": true
    },
    "kernelspec": {
      "name": "python3",
      "display_name": "Python 3"
    },
    "language_info": {
      "name": "python"
    }
  },
  "cells": [
    {
      "cell_type": "markdown",
      "metadata": {
        "id": "view-in-github",
        "colab_type": "text"
      },
      "source": [
        "<a href=\"https://colab.research.google.com/github/ManuelT004/CSC221_Mteja004/blob/main/Assignment12.ipynb\" target=\"_parent\"><img src=\"https://colab.research.google.com/assets/colab-badge.svg\" alt=\"Open In Colab\"/></a>"
      ]
    },
    {
      "cell_type": "code",
      "execution_count": 1,
      "metadata": {
        "colab": {
          "base_uri": "https://localhost:8080/"
        },
        "id": "GyduMjO1Llej",
        "outputId": "2afac346-54cb-457a-fb05-1220da6274a5"
      },
      "outputs": [
        {
          "output_type": "stream",
          "name": "stdout",
          "text": [
            "Wallet Contents:\n",
            "$1\n",
            "$1\n",
            "$5\n",
            "$10\n",
            "$10\n",
            "$20\n",
            "$0.01\n",
            "$0.05\n",
            "$0.05\n",
            "$0.1\n",
            "$0.25\n",
            "$0.25\n",
            "$0.25\n",
            "\n",
            "Total Money in Wallet: 47.959999999999994\n"
          ]
        }
      ],
      "source": [
        "class Money:\n",
        "    def __init__(self, value):\n",
        "        self.value = value\n",
        "\n",
        "    def __str__(self):\n",
        "        return f\"${self.value}\"\n",
        "\n",
        "    def __repr__(self):\n",
        "        return f\"{self.__class__.__name__}({self.value})\"\n",
        "\n",
        "class Bills(Money):\n",
        "    pass\n",
        "\n",
        "class Coins(Money):\n",
        "    pass\n",
        "\n",
        "class One(Bills):\n",
        "    def __init__(self):\n",
        "        super().__init__(1)\n",
        "\n",
        "class Five(Bills):\n",
        "    def __init__(self):\n",
        "        super().__init__(5)\n",
        "\n",
        "class Ten(Bills):\n",
        "    def __init__(self):\n",
        "        super().__init__(10)\n",
        "\n",
        "class Twenty(Bills):\n",
        "    def __init__(self):\n",
        "        super().__init__(20)\n",
        "\n",
        "class Penny(Coins):\n",
        "    def __init__(self):\n",
        "        super().__init__(0.01)\n",
        "\n",
        "class Nickel(Coins):\n",
        "    def __init__(self):\n",
        "        super().__init__(0.05)\n",
        "\n",
        "class Dime(Coins):\n",
        "    def __init__(self):\n",
        "        super().__init__(0.10)\n",
        "\n",
        "class Quarter(Coins):\n",
        "    def __init__(self):\n",
        "        super().__init__(0.25)\n",
        "\n",
        "wallet = [\n",
        "    One(), One(), Five(), Ten(), Ten(), Twenty(),\n",
        "    Penny(), Nickel(), Nickel(), Dime(), Quarter(), Quarter(), Quarter()\n",
        "]\n",
        "\n",
        "def calculate_total(money_list):\n",
        "    return sum(item.value for item in money_list)\n",
        "\n",
        "def print_money(money_list):\n",
        "    for money in money_list:\n",
        "        print(money)\n",
        "\n",
        "print(\"Wallet Contents:\")\n",
        "print_money(wallet)\n",
        "print(\"\\nTotal Money in Wallet:\", calculate_total(wallet))"
      ]
    },
    {
      "cell_type": "code",
      "source": [
        "class Candy:\n",
        "    def __init__(self, value):\n",
        "        self.value = value\n",
        "\n",
        "    def __str__(self):\n",
        "        return f\"Candy worth ${self.value}\"\n",
        "\n",
        "    def __repr__(self):\n",
        "        return f\"{self.__class__.__name__}({self.value})\"\n",
        "\n",
        "class Chocolate(Candy):\n",
        "    pass\n",
        "\n",
        "class Gummy(Candy):\n",
        "    pass\n",
        "\n",
        "class HardCandy(Candy):\n",
        "    pass\n",
        "\n",
        "class CandyBar(Chocolate):\n",
        "    def __init__(self):\n",
        "        super().__init__(1.50)\n",
        "\n",
        "class Lollipop(HardCandy):\n",
        "    def __init__(self):\n",
        "        super().__init__(0.75)\n",
        "\n",
        "class GummyBear(Gummy):\n",
        "    def __init__(self):\n",
        "        super().__init__(0.25)\n",
        "\n",
        "class DarkChocolate(Chocolate):\n",
        "    def __init__(self):\n",
        "        super().__init__(2.00)\n",
        "\n",
        "candy_bag = [\n",
        "    CandyBar(), CandyBar(), Lollipop(), GummyBear(),\n",
        "    DarkChocolate(), Lollipop(), GummyBear()\n",
        "]\n",
        "\n",
        "def calculate_total(candy_list):\n",
        "    return sum(item.value for item in candy_list)\n",
        "\n",
        "def print_candy(candy_list):\n",
        "    for candy in candy_list:\n",
        "        print(candy)\n",
        "\n",
        "print(\"Candy Bag Contents:\")\n",
        "print_candy(candy_bag)\n",
        "print(\"\\nTotal Value of Candy Bag:\", calculate_total(candy_bag))"
      ],
      "metadata": {
        "colab": {
          "base_uri": "https://localhost:8080/"
        },
        "id": "lsMwvH3qNTvu",
        "outputId": "e0751478-850f-44f8-c76f-345f93fd4910"
      },
      "execution_count": 2,
      "outputs": [
        {
          "output_type": "stream",
          "name": "stdout",
          "text": [
            "Candy Bag Contents:\n",
            "Candy worth $1.5\n",
            "Candy worth $1.5\n",
            "Candy worth $0.75\n",
            "Candy worth $0.25\n",
            "Candy worth $2.0\n",
            "Candy worth $0.75\n",
            "Candy worth $0.25\n",
            "\n",
            "Total Value of Candy Bag: 7.0\n"
          ]
        }
      ]
    }
  ]
}