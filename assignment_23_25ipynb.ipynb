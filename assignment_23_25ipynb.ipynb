{
  "nbformat": 4,
  "nbformat_minor": 0,
  "metadata": {
    "colab": {
      "provenance": [],
      "authorship_tag": "ABX9TyM+9tjhUrj8qssdR7UoNbX4",
      "include_colab_link": true
    },
    "kernelspec": {
      "name": "python3",
      "display_name": "Python 3"
    },
    "language_info": {
      "name": "python"
    }
  },
  "cells": [
    {
      "cell_type": "markdown",
      "metadata": {
        "id": "view-in-github",
        "colab_type": "text"
      },
      "source": [
        "<a href=\"https://colab.research.google.com/github/ManuelT004/CSC221_Mteja004/blob/main/assignment_23_25ipynb.ipynb\" target=\"_parent\"><img src=\"https://colab.research.google.com/assets/colab-badge.svg\" alt=\"Open In Colab\"/></a>"
      ]
    },
    {
      "cell_type": "code",
      "execution_count": 17,
      "metadata": {
        "colab": {
          "base_uri": "https://localhost:8080/"
        },
        "id": "luX0vXHSxxrc",
        "outputId": "66c0bac1-b241-4a32-c870-80e1540e0d00"
      },
      "outputs": [
        {
          "output_type": "stream",
          "name": "stdout",
          "text": [
            "['bread', 'bike', 'death', 'baloni']\n"
          ]
        }
      ],
      "source": [
        "stuffs = ['bread', 'bike', 'death', 'baloni']\n",
        "trash_list = []\n",
        "\n",
        "def things(stuffs):\n",
        "  for stuff in stuffs:\n",
        "    trash_list.append(stuff)\n",
        "\n",
        "\n",
        "things(stuffs)\n",
        "print(trash_list)"
      ]
    },
    {
      "cell_type": "code",
      "source": [
        "def func(*args):\n",
        "    for arg in args:\n",
        "        print(arg)\n",
        "\n",
        "func('apple', 'banana', 'cherry', 'date')\n",
        "func(True, False, True, False, True)"
      ],
      "metadata": {
        "id": "GzNSNpJp8lx1"
      },
      "execution_count": null,
      "outputs": []
    },
    {
      "cell_type": "code",
      "source": [
        "def func(**kwargs):\n",
        "    for key, value in kwargs.items():\n",
        "        print(f\"{key}: {value}\")\n",
        "\n",
        "func(a=1, b=2, c=3)\n",
        "func(name='Alice', age=30, city='Wonderland')\n",
        "func(language='Python', version='3.9', framework='Django')"
      ],
      "metadata": {
        "id": "BUArHW8Aal_S"
      },
      "execution_count": null,
      "outputs": []
    },
    {
      "cell_type": "code",
      "source": [
        "def func(*args, **kwargs):\n",
        "    operator = kwargs.get('operator', '+')\n",
        "\n",
        "    if operator not in ['+', '-']:\n",
        "        return \"Invalid operator\"\n",
        "\n",
        "    result = 0\n",
        "    for arg in args:\n",
        "        if operator == '+':\n",
        "            result += arg\n",
        "        else:\n",
        "            result -= arg\n",
        "\n",
        "    return result\n",
        "\n",
        "print(func(5, 3, 2, operator='+'))\n",
        "print(func(10, 2, 3, operator='-'))\n",
        "print(func(1, 2, 3, 4, 5))\n",
        "print(func(operator='*'))"
      ],
      "metadata": {
        "id": "ZFbK_l4Qa6MK"
      },
      "execution_count": null,
      "outputs": []
    },
    {
      "cell_type": "code",
      "source": [
        "global_var = 10\n",
        "\n",
        "def modify_global():\n",
        "    global global_var\n",
        "    global_var += 5\n",
        "\n",
        "print(\"Initial value of global_var:\", global_var)\n",
        "\n",
        "modify_global()\n",
        "\n",
        "print(\"Updated value of global_var:\", global_var)"
      ],
      "metadata": {
        "id": "HkkmQZE2bbds"
      },
      "execution_count": null,
      "outputs": []
    },
    {
      "cell_type": "code",
      "source": [
        "words = ['apple', 'banana', 'orange', 'grape', 'watermelon']\n",
        "\n",
        "sorted_words_by_vowels = sorted(words, key=lambda word: sum(1 for letter in word if letter.lower() in 'aeiou'))\n",
        "\n",
        "print(sorted_words_by_vowels)"
      ],
      "metadata": {
        "id": "Yrz3W24Zbuco"
      },
      "execution_count": null,
      "outputs": []
    },
    {
      "cell_type": "code",
      "source": [
        "def logger(func):\n",
        "    def wrapper(*args, **kwargs):\n",
        "        result = func(*args, **kwargs)\n",
        "\n",
        "        with open('log.txt', 'a') as file:\n",
        "            file.write(f\"Function: {func.__name__}\\n\")\n",
        "            file.write(f\"Arguments: {args}, {kwargs}\\n\")\n",
        "            file.write(f\"Return Value: {result}\\n\\n\")\n",
        "\n",
        "        return result\n",
        "\n",
        "    return wrapper\n",
        "\n",
        "@logger\n",
        "def func_to_log(a, b):\n",
        "    return a + b\n",
        "\n",
        "func_to_log(3, 5)\n",
        "func_to_log('Hello, ', 'World!')\n",
        "\n",
        "with open('log.txt', 'r') as file:\n",
        "    log_contents = file.read()\n",
        "\n",
        "print(log_contents)"
      ],
      "metadata": {
        "colab": {
          "base_uri": "https://localhost:8080/"
        },
        "id": "kEkvIgpjcGNO",
        "outputId": "80279635-b8c6-442e-cb67-c466d00fc9ed"
      },
      "execution_count": 3,
      "outputs": [
        {
          "output_type": "stream",
          "name": "stdout",
          "text": [
            "Function: func_to_log\n",
            "Arguments: (3, 5), {}\n",
            "Return Value: 8\n",
            "\n",
            "Function: func_to_log\n",
            "Arguments: ('Hello, ', 'World!'), {}\n",
            "Return Value: Hello, World!\n",
            "\n",
            "\n"
          ]
        }
      ]
    },
    {
      "cell_type": "code",
      "source": [
        "#maps\n",
        "numbers = [1, 2, 3, 4, 5]\n",
        "squared_numbers = list(map(lambda x: x**2, numbers))\n",
        "print(squared_numbers)"
      ],
      "metadata": {
        "id": "K3ZFBXOpcs6f"
      },
      "execution_count": null,
      "outputs": []
    },
    {
      "cell_type": "code",
      "source": [
        "#filter\n",
        "numbers = [1, 2, 3, 4, 5, 6, 7, 8, 9, 10]\n",
        "even_numbers = list(filter(lambda x: x % 2 == 0, numbers))\n",
        "print(even_numbers)"
      ],
      "metadata": {
        "id": "WEhAjGqecwm4"
      },
      "execution_count": null,
      "outputs": []
    },
    {
      "cell_type": "code",
      "source": [
        "#reduce\n",
        "from functools import reduce\n",
        "\n",
        "numbers = [1, 2, 3, 4, 5]\n",
        "product = reduce(lambda x, y: x * y, numbers)\n",
        "print(product)"
      ],
      "metadata": {
        "id": "axdcVPv3c4v2"
      },
      "execution_count": null,
      "outputs": []
    },
    {
      "cell_type": "code",
      "source": [
        "while True:\n",
        "    expression = input(\"Enter a Python expression (e.g., '5 + 3 - 8 / 12'): \")\n",
        "\n",
        "    if expression.lower() == 'exit':\n",
        "        break  # Exit the loop if the user types 'exit'\n",
        "\n",
        "    try:\n",
        "        result = eval(expression)  # Evaluate the expression\n",
        "        print(\"Result:\", result)\n",
        "    except Exception as e:\n",
        "        print(\"Error:\", e)"
      ],
      "metadata": {
        "id": "y_fueIfbdFOd"
      },
      "execution_count": null,
      "outputs": []
    }
  ]
}