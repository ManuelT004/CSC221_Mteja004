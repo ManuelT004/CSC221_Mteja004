{
  "nbformat": 4,
  "nbformat_minor": 0,
  "metadata": {
    "colab": {
      "provenance": [],
      "authorship_tag": "ABX9TyNcn7BX07e2ZsF7Am4A9yTR",
      "include_colab_link": true
    },
    "kernelspec": {
      "name": "python3",
      "display_name": "Python 3"
    },
    "language_info": {
      "name": "python"
    }
  },
  "cells": [
    {
      "cell_type": "markdown",
      "metadata": {
        "id": "view-in-github",
        "colab_type": "text"
      },
      "source": [
        "<a href=\"https://colab.research.google.com/github/ManuelT004/CSC221_Mteja004/blob/main/Assignment15.ipynb\" target=\"_parent\"><img src=\"https://colab.research.google.com/assets/colab-badge.svg\" alt=\"Open In Colab\"/></a>"
      ]
    },
    {
      "cell_type": "code",
      "execution_count": 2,
      "metadata": {
        "id": "4kEEmoUYakGM"
      },
      "outputs": [],
      "source": [
        "#tiy 11-1\n",
        "\n",
        "def cit_func(city_name, country_name):\n",
        "    return f\"{city_name.title()}, {country_name.title()}\""
      ]
    },
    {
      "cell_type": "code",
      "source": [
        "def test_city_country():\n",
        "    test_cases = [\n",
        "        (\"new york\", \"united states\"),\n",
        "        (\"paris\", \"france\"),\n",
        "        (\"tokyo\", \"japan\"),\n",
        "        (\"london\", \"united kingdom\"),\n",
        "    ]\n",
        "\n",
        "    for city, country in test_cases:\n",
        "        result = cit_func(city, country)\n",
        "        expected = f\"{city.title()}, {country.title()}\"\n",
        "\n",
        "        if result == expected:\n",
        "            print(f\"Test passed for {city.title()}, {country.title()}\")\n",
        "        else:\n",
        "            print(f\"Test failed for {city.title()}, {country.title()}. Expected: {expected}, Got: {result}\")\n",
        "\n",
        "test_city_country()"
      ],
      "metadata": {
        "colab": {
          "base_uri": "https://localhost:8080/"
        },
        "id": "Jg1JQjCWbvZQ",
        "outputId": "4ee0816c-3225-4d2a-9dd2-1000c7055ed5"
      },
      "execution_count": 3,
      "outputs": [
        {
          "output_type": "stream",
          "name": "stdout",
          "text": [
            "Test passed for New York, United States\n",
            "Test passed for Paris, France\n",
            "Test passed for Tokyo, Japan\n",
            "Test passed for London, United Kingdom\n"
          ]
        }
      ]
    },
    {
      "cell_type": "code",
      "source": [
        "#tiy 11-2\n",
        "\n",
        "def cit_func(city_name, country_name, population):\n",
        "    formatted_city_country = f\"{city_name.title()}, {country_name.title()}\"\n",
        "    return f\"{formatted_city_country} - population {population}\"\n",
        "\n",
        "city = \"new york\"\n",
        "country = \"united states\"\n",
        "population = 8500000\n",
        "\n",
        "result = cit_func(city, country, population)\n",
        "print(result)"
      ],
      "metadata": {
        "colab": {
          "base_uri": "https://localhost:8080/"
        },
        "id": "vC8X1AGRcaNk",
        "outputId": "996f99ed-d283-4abe-a9b4-5e437d891373"
      },
      "execution_count": 4,
      "outputs": [
        {
          "output_type": "stream",
          "name": "stdout",
          "text": [
            "New York, United States - population 8500000\n"
          ]
        }
      ]
    },
    {
      "cell_type": "code",
      "source": [
        "def cit_func(city_name, country_name, population=None):\n",
        "    formatted_city_country = f\"{city_name.title()}, {country_name.title()}\"\n",
        "\n",
        "    if population:\n",
        "        return f\"{formatted_city_country} - population {population}\"\n",
        "    else:\n",
        "        return formatted_city_country\n",
        "\n",
        "city = \"new york\"\n",
        "country = \"united states\"\n",
        "\n",
        "result_with_population = cit_func(city, country, 8500000)\n",
        "print(result_with_population)\n",
        "\n",
        "result_without_population = cit_func(city, country)\n",
        "print(result_without_population)"
      ],
      "metadata": {
        "id": "bqz2I2SVc1Gn"
      },
      "execution_count": null,
      "outputs": []
    },
    {
      "cell_type": "code",
      "source": [
        "def cit_func(city_name, country_name, population=None):\n",
        "    formatted_city_country = f\"{city_name.title()}, {country_name.title()}\"\n",
        "\n",
        "    if population:\n",
        "        return f\"{formatted_city_country} - population {population}\"\n",
        "    else:\n",
        "        return formatted_city_country\n",
        "\n",
        "def test_city_country():\n",
        "    test_cases = [\n",
        "        ((\"new york\", \"united states\", 8500000), \"New York, United States - population 8500000\"),\n",
        "        ((\"paris\", \"france\"), \"Paris, France\"),\n",
        "        ((\"tokyo\", \"japan\", 38000000), \"Tokyo, Japan - population 38000000\"),\n",
        "        ((\"london\", \"united kingdom\"), \"London, United Kingdom\")\n",
        "    ]\n",
        "\n",
        "    for args, expected_result in test_cases:\n",
        "        result = cit_func(*args)\n",
        "\n",
        "        if result == expected_result:\n",
        "            print(f\"Test passed for {args}. Result: {result}\")\n",
        "        else:\n",
        "            print(f\"Test failed for {args}. Expected: {expected_result}, Got: {result}\")\n",
        "\n",
        "test_city_country()"
      ],
      "metadata": {
        "colab": {
          "base_uri": "https://localhost:8080/"
        },
        "id": "MwNJG3oGdibL",
        "outputId": "8e2f5afe-b337-4eb2-8aa0-810ea7a07984"
      },
      "execution_count": 5,
      "outputs": [
        {
          "output_type": "stream",
          "name": "stdout",
          "text": [
            "Test passed for ('new york', 'united states', 8500000). Result: New York, United States - population 8500000\n",
            "Test passed for ('paris', 'france'). Result: Paris, France\n",
            "Test passed for ('tokyo', 'japan', 38000000). Result: Tokyo, Japan - population 38000000\n",
            "Test passed for ('london', 'united kingdom'). Result: London, United Kingdom\n"
          ]
        }
      ]
    }
  ]
}