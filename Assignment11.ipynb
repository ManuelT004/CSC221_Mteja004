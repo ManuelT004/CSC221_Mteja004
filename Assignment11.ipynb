{
  "nbformat": 4,
  "nbformat_minor": 0,
  "metadata": {
    "colab": {
      "provenance": [],
      "authorship_tag": "ABX9TyMRg5t4wDyHVlbqZWezMJF6",
      "include_colab_link": true
    },
    "kernelspec": {
      "name": "python3",
      "display_name": "Python 3"
    },
    "language_info": {
      "name": "python"
    }
  },
  "cells": [
    {
      "cell_type": "markdown",
      "metadata": {
        "id": "view-in-github",
        "colab_type": "text"
      },
      "source": [
        "<a href=\"https://colab.research.google.com/github/ManuelT004/CSC221_Mteja004/blob/main/Assignment11.ipynb\" target=\"_parent\"><img src=\"https://colab.research.google.com/assets/colab-badge.svg\" alt=\"Open In Colab\"/></a>"
      ]
    },
    {
      "cell_type": "code",
      "execution_count": null,
      "metadata": {
        "id": "0UpMRYt24-bC"
      },
      "outputs": [],
      "source": [
        "class dog:\n",
        "  def __init__(self, name, age):\n",
        "    self.name = name\n",
        "    self.age = age\n",
        "\n",
        "  def sit(self):\n",
        "    print(f'{self.name} is now sitting')\n",
        "\n",
        "  def roll_over(self):\n",
        "    print(f'{self.name} rolled over!!')"
      ]
    },
    {
      "cell_type": "code",
      "source": [
        "my_dog = dog('willie', 6)\n",
        "print(f'my dogs name is {my_dog.name}')\n",
        "print(f'my dog is {my_dog.age} years old')"
      ],
      "metadata": {
        "colab": {
          "base_uri": "https://localhost:8080/"
        },
        "id": "JWbDW80f7a_e",
        "outputId": "1c7980fb-ff51-4f6c-a856-a76a6b5adbf3"
      },
      "execution_count": null,
      "outputs": [
        {
          "output_type": "stream",
          "name": "stdout",
          "text": [
            "my dogs name is willie\n",
            "my dog is 6 years old\n"
          ]
        }
      ]
    },
    {
      "cell_type": "code",
      "source": [
        "my_dog.sit()\n",
        "my_dog.roll_over()"
      ],
      "metadata": {
        "colab": {
          "base_uri": "https://localhost:8080/"
        },
        "id": "YU9DWgOR8z6v",
        "outputId": "9529eca9-65da-47ba-de5c-a9cd432ca966"
      },
      "execution_count": null,
      "outputs": [
        {
          "output_type": "stream",
          "name": "stdout",
          "text": [
            "willie is now sitting\n",
            "willie rolled over!!\n"
          ]
        }
      ]
    },
    {
      "cell_type": "code",
      "source": [
        "my_dog = dog('willie', 6)\n",
        "print(f'my dogs name is {my_dog.name}')\n",
        "print(f'my dog is {my_dog.age} years old')\n",
        "my_dog.sit()\n",
        "\n",
        "your_dog = dog('lucy', 3)\n",
        "print(f'my dogs name is {your_dog.name}')\n",
        "print(f'my dog is {your_dog.age} years old')\n",
        "your_dog.sit()"
      ],
      "metadata": {
        "colab": {
          "base_uri": "https://localhost:8080/"
        },
        "id": "9uVbPoir_iu7",
        "outputId": "e392624b-a597-4fc3-aae9-d8de50ce1c9c"
      },
      "execution_count": null,
      "outputs": [
        {
          "output_type": "stream",
          "name": "stdout",
          "text": [
            "my dogs name is willie\n",
            "my dog is 6 years old\n",
            "willie is now sitting\n",
            "my dogs name is lucy\n",
            "my dog is 3 years old\n",
            "lucy is now sitting\n"
          ]
        }
      ]
    },
    {
      "cell_type": "code",
      "source": [
        "#9-1\n",
        "class resurants:\n",
        "  def __init__(self, name, cuisine):\n",
        "    self.name = name\n",
        "    self.cuisine = cuisine\n",
        "\n",
        "  def describe(self):\n",
        "    print(f'the location is called {self.name} food type at this resurant is mainly {self.cuisine}')\n",
        "\n",
        "  def open(self):\n",
        "    print('this resurant is actually open, good for you')\n",
        "\n",
        "texas_roadhouse = resurants('texas roadhouse', 'steaks')\n",
        "\n",
        "print(texas_roadhouse)\n",
        "texas_roadhouse.describe()\n",
        "texas_roadhouse.open()"
      ],
      "metadata": {
        "colab": {
          "base_uri": "https://localhost:8080/"
        },
        "id": "2Q_WaPqZA5Ee",
        "outputId": "a39a7e77-4e82-4fd6-de99-94e10b29a293"
      },
      "execution_count": 3,
      "outputs": [
        {
          "output_type": "stream",
          "name": "stdout",
          "text": [
            "<__main__.resurants object at 0x7b3deb782770>\n",
            "the location is called texas roadhouse food type at this resurant is mainly steaks\n",
            "this resurant is actually open, good for you\n"
          ]
        }
      ]
    },
    {
      "cell_type": "code",
      "source": [
        "#tiy 9-2\n",
        "chinese = resurants('Golden city', 'asain')\n",
        "\n",
        "chicken = resurants('luisiana fried chicken', 'chicken')\n",
        "\n",
        "pizza = resurants('fried chicken', 'pizza')\n",
        "\n",
        "chinese.describe()\n",
        "\n",
        "chicken.describe()\n",
        "\n",
        "pizza.describe()"
      ],
      "metadata": {
        "colab": {
          "base_uri": "https://localhost:8080/"
        },
        "id": "IJvL9vMMEANe",
        "outputId": "61edf574-ddc4-440b-9383-fb8ebcc7c2f2"
      },
      "execution_count": 4,
      "outputs": [
        {
          "output_type": "stream",
          "name": "stdout",
          "text": [
            "the location is called Golden city food type at this resurant is mainly asain\n",
            "the location is called luisiana fried chicken food type at this resurant is mainly chicken\n",
            "the location is called fried chicken food type at this resurant is mainly pizza\n"
          ]
        }
      ]
    },
    {
      "cell_type": "code",
      "source": [
        "#tiy 9-3\n",
        "\n",
        "class User:\n",
        "    def __init__(self, first_name, last_name, age, weight):\n",
        "        self.first_name = first_name\n",
        "        self.last_name = last_name\n",
        "        self.age = age\n",
        "        self.weight = weight\n",
        "\n",
        "    def describe_user(self):\n",
        "      print(f'this user name is {self.first_name} {self.last_name}, their age is {self.age}, and finally their weight is {self.weight}')\n",
        "\n",
        "\n",
        "    def greet(self):\n",
        "      print(f'hello {self.first_name}, how are you today')\n",
        "\n",
        "mike = User('mike','wasoski', '37', '30')\n",
        "\n",
        "sully = User('sully', 'cat', '38', '128')\n",
        "\n",
        "print(mike.describe_user())\n",
        "print(mike.greet())\n",
        "\n",
        "print(sully.describe_user())\n",
        "print(mike.greet())\n"
      ],
      "metadata": {
        "colab": {
          "base_uri": "https://localhost:8080/"
        },
        "id": "wB4dq1WEFJCF",
        "outputId": "725f548e-6825-478d-9f10-a67ebcce69f2"
      },
      "execution_count": 7,
      "outputs": [
        {
          "output_type": "stream",
          "name": "stdout",
          "text": [
            "this user name is mike wasoski, their age is 37, and finally their weight is 30\n",
            "None\n",
            "hello mike, how are you today\n",
            "None\n",
            "this user name is sully cat, their age is 38, and finally their weight is 128\n",
            "None\n",
            "hello mike, how are you today\n",
            "None\n"
          ]
        }
      ]
    },
    {
      "cell_type": "code",
      "source": [
        "#tiy 9-6\n",
        "\n",
        "class Restaurant:\n",
        "    def __init__(self, name, cuisine):\n",
        "        self.name = name\n",
        "        self.cuisine = cuisine\n",
        "\n",
        "    def describe(self):\n",
        "        print(f\"The location is called {self.name}. Food type at this restaurant is mainly {self.cuisine}\")\n",
        "\n",
        "    def open(self):\n",
        "        print(\"This restaurant is actually open. Good for you\")\n",
        "\n",
        "class IceCreamShop(Restaurant):\n",
        "    def __init__(self, name, cuisine):\n",
        "        super().__init__(name, cuisine)\n",
        "        self.flavors = []\n",
        "\n",
        "    def add_flavor(self, flavor):\n",
        "        self.flavors.append(flavor)\n",
        "\n",
        "    def display_flavors(self):\n",
        "        if self.flavors:\n",
        "            print(f\"The available flavors at {self.name} are: {', '.join(self.flavors)}\")\n",
        "        else:\n",
        "            print(f\"No flavors available at {self.name} yet.\")\n",
        "\n",
        "\n",
        "my_ice_cream_shop = IceCreamShop(\"Scoops & Swirls\", \"Ice Cream\")\n",
        "\n",
        "\n",
        "my_ice_cream_shop.add_flavor(\"Vanilla\")\n",
        "my_ice_cream_shop.add_flavor(\"Chocolate\")\n",
        "my_ice_cream_shop.add_flavor(\"Strawberry\")\n",
        "\n",
        "\n",
        "my_ice_cream_shop.describe()\n",
        "my_ice_cream_shop.open()\n",
        "my_ice_cream_shop.display_flavors()"
      ],
      "metadata": {
        "id": "obOih-LEIhje"
      },
      "execution_count": null,
      "outputs": []
    },
    {
      "cell_type": "code",
      "source": [
        "#tiy 9-7\n",
        "\n",
        "class Admin(User):\n",
        "    def show_privileges(self):\n",
        "        print(\"As an admin, you have the following privileges:\")\n",
        "        print(\"- Can add users\")\n",
        "        print(\"- Can delete users\")\n",
        "        print(\"- Can modify user information\")\n",
        "\n",
        "\n",
        "admin_user = Admin(\"Admin\", \"Smith\", 40, 75)\n",
        "\n",
        "\n",
        "admin_user.describe_user()\n",
        "admin_user.greet()\n",
        "\n",
        "admin_user.show_privileges()\n"
      ],
      "metadata": {
        "colab": {
          "base_uri": "https://localhost:8080/"
        },
        "id": "8GCUBoIuKIjR",
        "outputId": "57084aa8-b10a-4069-b018-850c2cb9b1ba"
      },
      "execution_count": 8,
      "outputs": [
        {
          "output_type": "stream",
          "name": "stdout",
          "text": [
            "this user name is Admin Smith, their age is 40, and finally their weight is 75\n",
            "hello Admin, how are you today\n",
            "As an admin, you have the following privileges:\n",
            "- Can add users\n",
            "- Can delete users\n",
            "- Can modify user information\n"
          ]
        }
      ]
    }
  ]
}